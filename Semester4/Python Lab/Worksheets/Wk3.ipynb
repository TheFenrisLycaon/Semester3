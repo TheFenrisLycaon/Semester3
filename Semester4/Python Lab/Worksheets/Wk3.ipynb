{
 "cells": [
  {
   "cell_type": "code",
   "execution_count": null,
   "metadata": {},
   "outputs": [],
   "source": [
    "# Exit if -1 or duplicates are entered\n",
    "res = ' '\n",
    "while(1):\n",
    "    k = input()\n",
    "    if k == '-1' or ' ' + k + ' ' in res:\n",
    "        break \n",
    "    else:\n",
    "        print(f\"{k} entered the room\")\n",
    "        res += k + ' '"
   ]
  },
  {
   "cell_type": "code",
   "execution_count": null,
   "metadata": {},
   "outputs": [],
   "source": [
    "# Check Numbers divisible by a number\n",
    "x = int(input())\n",
    "print([x*i for i in range(2,20)])"
   ]
  },
  {
   "cell_type": "code",
   "execution_count": null,
   "metadata": {},
   "outputs": [],
   "source": [
    "# armstrong number\n",
    "t = x = int(input())\n",
    "y = 0 \n",
    "n = len(str(x))\n",
    "while t > 0:\n",
    "   k = t % 10\n",
    "   y += k ** n\n",
    "   t //= 10\n",
    "\n",
    "print(\"Armstromg Number\") if x == y else print(\"Not an armstrong number\")"
   ]
  },
  {
   "cell_type": "code",
   "execution_count": 3,
   "metadata": {},
   "outputs": [
    {
     "name": "stdout",
     "output_type": "stream",
     "text": [
      "a\n",
      "97\n",
      "a\n",
      "'a'\n"
     ]
    }
   ],
   "source": [
    "# Print ASCII value\n",
    "print(ord(input()))`"
   ]
  },
  {
   "cell_type": "code",
   "execution_count": 6,
   "metadata": {},
   "outputs": [
    {
     "name": "stdout",
     "output_type": "stream",
     "text": [
      "qwertyuiopasdfghjklzxcvbnm\n",
      "5 vowels found ['e', 'u', 'i', 'o', 'a']\n",
      "21 vowels found ['q', 'w', 'r', 't', 'y', 'p', 's', 'd', 'f', 'g', 'h', 'j', 'k', 'l', 'z', 'x', 'c', 'v', 'b', 'n', 'm']\n"
     ]
    }
   ],
   "source": [
    "# Finding yowels and consonants in a word\n",
    "vow = ['a', 'e', 'i', 'o', 'u']\n",
    "vowList = []\n",
    "consList = []\n",
    "for i in input():\n",
    "    if i.lower() in vow:\n",
    "        vowList.append(i)\n",
    "    else:\n",
    "        consList.append(i)\n",
    "print(f\"{len(vowList)} vowels found {vowList}\")\n",
    "print(f\"{len(consList)} vowels found {consList}\")"
   ]
  },
  {
   "cell_type": "code",
   "execution_count": null,
   "metadata": {},
   "outputs": [],
   "source": []
  }
 ],
 "metadata": {
  "kernelspec": {
   "display_name": "Python 3",
   "language": "python",
   "name": "python3"
  },
  "language_info": {
   "codemirror_mode": {
    "name": "ipython",
    "version": 3
   },
   "file_extension": ".py",
   "mimetype": "text/x-python",
   "name": "python",
   "nbconvert_exporter": "python",
   "pygments_lexer": "ipython3",
   "version": "3.8.5"
  }
 },
 "nbformat": 4,
 "nbformat_minor": 4
}
