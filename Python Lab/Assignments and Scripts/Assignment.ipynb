{
 "cells": [
  {
   "cell_type": "code",
   "execution_count": 166,
   "metadata": {},
   "outputs": [
    {
     "name": "stdout",
     "output_type": "stream",
     "text": [
      "Input lengths of triangle sides:\n",
      "x:6\n",
      "y:8\n",
      "z:12\n",
      "Scalene Triangle\n"
     ]
    }
   ],
   "source": [
    "# question 1\n",
    "print(\"Input lengths of triangle sides:\")\n",
    "# INput all the sides\n",
    "sideA = float(input(\"x:\"))\n",
    "sideB = float(input(\"y:\"))\n",
    "sideC = float(input(\"z:\"))\n",
    "\n",
    "# check equality\n",
    "if sideA == sideB == sideC:\n",
    "  print(\"Equilateral Triangle\")\n",
    "\n",
    "elif sideA != sideB != sideC:\n",
    "  print(\"Scalene Triangle\")\n",
    "\n",
    "else:\n",
    "  print(\"Isosceles Triangle\")  "
   ]
  },
  {
   "cell_type": "code",
   "execution_count": 165,
   "metadata": {},
   "outputs": [
    {
     "name": "stdout",
     "output_type": "stream",
     "text": [
      "Enter your password:123@asA\n",
      "Successful\n"
     ]
    }
   ],
   "source": [
    "# question 2\n",
    "# save the accepted symbols\n",
    "sym = ['$', \"#\", \"@\"]\n",
    "\n",
    "def validate(s):\n",
    "    if len(s) <=16:\n",
    "        # checking numbers\n",
    "        if not any(x.isdigit() for x in s):\n",
    "            return \"No number\"\n",
    "        else:\n",
    "            # checking upper case \n",
    "            if not any(x.isupper() for x in s):\n",
    "                return \"No uppercase character\"\n",
    "            else:\n",
    "                # checkin lower case\n",
    "                if not any(x.islower() for x in s):\n",
    "                    return \"No lowercase character\"\n",
    "                else:\n",
    "                    # checking symbols\n",
    "                    if not any(x in sym for x in s):\n",
    "                        return \"No symbol\"\n",
    "                    else:\n",
    "                        return \"Successful\"\n",
    "    else:\n",
    "        return \"Length out of bounds.\"\n",
    "\n",
    " \n",
    "print(validate(input(\"Enter your password:\")))"
   ]
  },
  {
   "cell_type": "code",
   "execution_count": 164,
   "metadata": {},
   "outputs": [
    {
     "name": "stdout",
     "output_type": "stream",
     "text": [
      "Input the name of Month:February\n",
      "No. of days: 28/29 days\n"
     ]
    }
   ],
   "source": [
    "# question 3\n",
    "def giveDays(name):\n",
    "  if name.lower() in day30:\n",
    "    return '30'\n",
    "  elif name.lower() in day31:\n",
    "    return '31'\n",
    "  elif name.lower() in day28:\n",
    "    return '28/29'\n",
    "  else:\n",
    "    return -1\n",
    "\n",
    "# saving the lists\n",
    "day31 = ['january', 'march', 'may', 'july', 'august', 'october', 'december']\n",
    "day30 = ['april', 'june', 'september', 'november']\n",
    "day28 = ['february']\n",
    "\n",
    "# taking input from user\n",
    "month = input(\"Input the name of Month:\")\n",
    "#checking number of days\n",
    "days = giveDays(month)\n",
    "print(f\"No. of days: {days} days\")"
   ]
  },
  {
   "cell_type": "code",
   "execution_count": 163,
   "metadata": {},
   "outputs": [
    {
     "name": "stdout",
     "output_type": "stream",
     "text": [
      "FizzBuzz\n",
      "1\n",
      "2\n",
      "Fizz\n",
      "4\n",
      "Buzz\n",
      "Fizz\n",
      "7\n",
      "8\n",
      "Fizz\n",
      "Buzz\n",
      "11\n",
      "Fizz\n",
      "13\n",
      "14\n",
      "FizzBuzz\n",
      "16\n",
      "17\n",
      "Fizz\n",
      "19\n",
      "Buzz\n",
      "Fizz\n",
      "22\n",
      "23\n",
      "Fizz\n",
      "Buzz\n",
      "26\n",
      "Fizz\n",
      "28\n",
      "29\n",
      "FizzBuzz\n",
      "31\n",
      "32\n",
      "Fizz\n",
      "34\n",
      "Buzz\n",
      "Fizz\n",
      "37\n",
      "38\n",
      "Fizz\n",
      "Buzz\n",
      "41\n",
      "Fizz\n",
      "43\n",
      "44\n",
      "FizzBuzz\n",
      "46\n",
      "47\n",
      "Fizz\n",
      "49\n",
      "Buzz\n"
     ]
    }
   ],
   "source": [
    "# QUESTION 4\n",
    "for i in range(0,51): print(\"Fizz\"*(i%3==0) + \"Buzz\"*(i%5==0) + str(i)*(i%3!=0 and i%5!=0))\n",
    "\n",
    "# sample output had fizz and buzz decapitalized for that output uncomment next line\n",
    "# for i in range(0,51): print(\"fizz\"*(i%3==0) + \"buzz\"*(i%5==0) + str(i)*(i%3!=0 and i%5!=0))\n",
    "## generic solution\n",
    "# for i in range(0, 51):\n",
    "#   if i%3==0 and i%5==0:\n",
    "#     print(\"FizzBuzz\")\n",
    "#   else:\n",
    "#     if i%3 == 0:\n",
    "#       print(\"Fizz\")\n",
    "#     elif i%5 == 0:\n",
    "#       print(\"Buzz\")\n",
    "#     else:\n",
    "#       print(i)"
   ]
  },
  {
   "cell_type": "code",
   "execution_count": 162,
   "metadata": {},
   "outputs": [
    {
     "name": "stdout",
     "output_type": "stream",
     "text": [
      "Input the month (e.g. January, February etc.): july\n",
      "Input the day: 31\n",
      "Season is Summer\n"
     ]
    }
   ],
   "source": [
    "# question 5\n",
    "spring = ['april', 'may']\n",
    "summer = ['july', 'august']\n",
    "autumn = ['october','november']\n",
    "winter = ['january', 'february']\n",
    "breaks = ['march', 'june', 'september', 'december']\n",
    "\n",
    "\n",
    "def getSeason(month,day):\n",
    "    if month.lower() in winter:\n",
    "        # check winter months\n",
    "        return 'Winter'\n",
    "    elif month.lower in spring:\n",
    "        # check spring months\n",
    "        return 'Spring'\n",
    "    elif month.lower() in summer:\n",
    "        # check summer months\n",
    "        return 'Summer'\n",
    "    elif month.lower() in autumn:\n",
    "        # check autumn months\n",
    "        return 'Autumn'\n",
    "    elif month.lower() in breaks:\n",
    "        # check breakin months\n",
    "        if 'mar' in month.lower():\n",
    "            if (day > 19):\n",
    "                return 'Spring'\n",
    "            else:\n",
    "                return 'Winter'\n",
    "        elif 'jun' in month.lower():\n",
    "            if (day > 20):\n",
    "                return 'Summer'\n",
    "            else:\n",
    "                return 'Spring'\n",
    "        elif 'sept' in month.lower():\n",
    "            if (day > 21):\n",
    "                return 'Autumn'\n",
    "            else:\n",
    "                return 'Summer'\n",
    "        elif 'dec' in month.lower():\n",
    "            if (day > 20):\n",
    "                return 'Winter'\n",
    "            else:\n",
    "                return 'Autumn'\n",
    "    else:\n",
    "        return \"Month or date wrong\"\n",
    "\n",
    "    \n",
    "month = input(\"Input the month (e.g. January, February etc.): \")\n",
    "day = int(input(\"Input the day: \"))\n",
    "print('Season is',getSeason(month,day))"
   ]
  }
 ],
 "metadata": {
  "kernelspec": {
   "display_name": "Python 3",
   "language": "python",
   "name": "python3"
  },
  "language_info": {
   "codemirror_mode": {
    "name": "ipython",
    "version": 3
   },
   "file_extension": ".py",
   "mimetype": "text/x-python",
   "name": "python",
   "nbconvert_exporter": "python",
   "pygments_lexer": "ipython3",
   "version": "3.8.5"
  }
 },
 "nbformat": 4,
 "nbformat_minor": 4
}
