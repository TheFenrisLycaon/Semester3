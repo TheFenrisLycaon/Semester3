{
 "cells": [
  {
   "cell_type": "code",
   "execution_count": 1,
   "metadata": {},
   "outputs": [
    {
     "name": "stdout",
     "output_type": "stream",
     "text": [
      "Enter temp in Fahrenheit::\t32\n",
      "The temp in celsius is ::\t0.00 C\n"
     ]
    }
   ],
   "source": [
    "\"\"\"Fahrenheit to Celsius \"\"\"\n",
    "# c = (f - 32) * 5/9 \n",
    "print(\"The temp in celsius is ::\\t{:.2f} C\".format((int(input(\"Enter temp in Fahrenheit::\\t\")) - 32) * 5/9)) "
   ]
  },
  {
   "cell_type": "code",
   "execution_count": 2,
   "metadata": {},
   "outputs": [
    {
     "name": "stdout",
     "output_type": "stream",
     "text": [
      "Enter Radius in cm::\t7\n",
      "Area::\t153.86 sq.cm\n",
      "Circumference::\t43.96 cm\n"
     ]
    }
   ],
   "source": [
    "\"\"\" Area and Circumference of circle \"\"\"\n",
    "\n",
    "radius = int(input(\"Enter Radius in cm::\\t\"))\n",
    "pi = 3.14\n",
    "\n",
    "print(\"Area::\\t{:.2f} sq.cm\\nCircumference::\\t{:.2f} cm\".format(pi*radius*radius, 2*pi*radius))"
   ]
  },
  {
   "cell_type": "code",
   "execution_count": 3,
   "metadata": {},
   "outputs": [
    {
     "name": "stdout",
     "output_type": "stream",
     "text": [
      "3 6 9\n",
      "Avg ::\t 6.0\n"
     ]
    }
   ],
   "source": [
    "\"\"\" Average of numbers \"\"\"\n",
    "\n",
    "numbers = list(map(int, input().split()))\n",
    "\n",
    "print(\"Avg ::\\t\", sum(numbers)/len(numbers))"
   ]
  },
  {
   "cell_type": "code",
   "execution_count": 4,
   "metadata": {},
   "outputs": [
    {
     "name": "stdout",
     "output_type": "stream",
     "text": [
      "Enter amount::\t1000\n",
      "Enter rate::\t5.9\n",
      "Enter time::\t10\n",
      "Intrest::\tRupees 59000.00\n",
      "Amount::\tRupees 60000.00\n"
     ]
    }
   ],
   "source": [
    "\"\"\" Simple Intrest and Amount \"\"\"\n",
    "\n",
    "p = float(input(\"Enter amount::\\t\"))\n",
    "r = float(input(\"Enter rate::\\t\"))\n",
    "t = int(input(\"Enter time::\\t\"))\n",
    "\n",
    "amount = p*(1+r*t)\n",
    "si = p*r*t\n",
    "\n",
    "print(\"Intrest::\\tRupees {:.2f}\\nAmount::\\tRupees {:.2f}\".format(si,amount))"
   ]
  },
  {
   "cell_type": "code",
   "execution_count": 5,
   "metadata": {},
   "outputs": [
    {
     "name": "stdout",
     "output_type": "stream",
     "text": [
      "Enter side a::\t4\n",
      "Enter side b::\t6\n",
      "Enter side c::\t9\n",
      "Area::\t9.56\n"
     ]
    }
   ],
   "source": [
    "\"\"\" Area of triangle based on sides \"\"\"\n",
    "\n",
    "a,b,c = float(input(\"Enter side a::\\t\")),float(input(\"Enter side b::\\t\")),float(input(\"Enter side c::\\t\"))\n",
    "\n",
    "s = (a+b+c)/2\n",
    "ar = (s*(s-a)*(s-b)*(s-c))**0.5\n",
    "\n",
    "if isinstance(ar, complex):\n",
    "    ar = abs(ar)\n",
    "\n",
    "print(\"Area::\\t{:.2f}\".format(ar))"
   ]
  },
  {
   "cell_type": "code",
   "execution_count": 6,
   "metadata": {},
   "outputs": [
    {
     "name": "stdout",
     "output_type": "stream",
     "text": [
      "Enter km\\h::\t18\n",
      "In m/s::\t5.00\n"
     ]
    }
   ],
   "source": [
    "\"\"\" Conversion of m/s from km/h \"\"\"\n",
    "\n",
    "print(\"In m/s::\\t{:.2f}\".format((float(input(\"Enter km\\h::\\t\")))/3.6))"
   ]
  },
  {
   "cell_type": "code",
   "execution_count": 7,
   "metadata": {},
   "outputs": [
    {
     "name": "stdout",
     "output_type": "stream",
     "text": [
      "Enter initial velocity ::\t10\n",
      "Enter acceleration ::\t5\n",
      "Enter time (in s)::\t2\n",
      "Velocity after 2.0 seconds :: \t20.00\n"
     ]
    }
   ],
   "source": [
    "\"\"\" Final Velocity from given velocity and acceln\"\"\"\n",
    "\n",
    "u = float(input(\"Enter initial velocity ::\\t\"))\n",
    "a = float(input(\"Enter acceleration ::\\t\"))\n",
    "t = float(input(\"Enter time (in s)::\\t\"))\n",
    "\n",
    "print(f\"Velocity after {t} seconds :: \\t{u+a*t:.2f}\")"
   ]
  },
  {
   "cell_type": "code",
   "execution_count": 8,
   "metadata": {},
   "outputs": [
    {
     "name": "stdout",
     "output_type": "stream",
     "text": [
      "Enter age::\t20\n",
      "Age in seconds::\t 631200000.0\n"
     ]
    }
   ],
   "source": [
    "\"\"\" Age in seconds \"\"\"\n",
    "\n",
    "age = int(input(\"Enter age::\\t\"))\n",
    "y = 3.156 * 10**7\n",
    "\n",
    "print(\"Age in seconds::\\t\", age*y)"
   ]
  },
  {
   "cell_type": "code",
   "execution_count": 9,
   "metadata": {},
   "outputs": [
    {
     "name": "stdout",
     "output_type": "stream",
     "text": [
      "Enter a number::\t6\n",
      "Even\n"
     ]
    }
   ],
   "source": [
    "\"\"\" Even or odd \"\"\"\n",
    "\n",
    "print(\"Even\") if int(input(\"Enter a number::\\t\"))%2==0 else print(\"Odd\")"
   ]
  },
  {
   "cell_type": "code",
   "execution_count": 10,
   "metadata": {},
   "outputs": [
    {
     "name": "stdout",
     "output_type": "stream",
     "text": [
      "Enter year::\t1990\n",
      "Not Leap\n"
     ]
    }
   ],
   "source": [
    "\"\"\" Leap year \"\"\"\n",
    "\n",
    "y = int(input(\"Enter year::\\t\"))\n",
    "if (y%4) == 0:\n",
    "    if (y%100) == 0:\n",
    "        if (y% 400) == 0:\n",
    "                print(\"Leap\")\n",
    "        else:\n",
    "                print(\"Not leap\")\n",
    "    else:\n",
    "        print(\"Leap\")\n",
    "else:\n",
    "    print(\"Not Leap\")"
   ]
  }
 ],
 "metadata": {
  "kernelspec": {
   "display_name": "Python 3",
   "language": "python",
   "name": "python3"
  },
  "language_info": {
   "codemirror_mode": {
    "name": "ipython",
    "version": 3
   },
   "file_extension": ".py",
   "mimetype": "text/x-python",
   "name": "python",
   "nbconvert_exporter": "python",
   "pygments_lexer": "ipython3",
   "version": "3.8.5"
  }
 },
 "nbformat": 4,
 "nbformat_minor": 4
}
