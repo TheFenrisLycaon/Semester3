{
 "cells": [
  {
   "cell_type": "code",
   "execution_count": 5,
   "metadata": {},
   "outputs": [
    {
     "name": "stdout",
     "output_type": "stream",
     "text": [
      "0\n",
      "1\n",
      "2\n",
      "3\n",
      "4\n",
      "5\n",
      "6\n",
      "7\n",
      "8\n",
      "9\n",
      "153\n",
      "370\n",
      "371\n",
      "407\n"
     ]
    }
   ],
   "source": [
    "# Print armstrong numbers from 0 to 500\n",
    "\n",
    "for num in range(0,501):\n",
    "    # taking numbers within the given range and iterating over them.\n",
    "    temp = num\n",
    "    # protecting the number by assigning it's value to a temporary variable so that we can compare later\n",
    "    armstrong = 0\n",
    "    # setting armstrong comparator to zero\n",
    "    totalDigits = len(str(num))\n",
    "    # getting total number of digits in the number.\n",
    "\n",
    "    while temp > 0:\n",
    "        # repeating until all digits are extracted\n",
    "        digit, temp = temp % 10, temp//10\n",
    "        # extracting digits and removing the base digit from the number\n",
    "        armstrong += digit ** totalDigits\n",
    "        # dding the digit to armstrong for comparision\n",
    "        \n",
    "    # comparing number to check if it is armstrong    \n",
    "    if num == armstrong:\n",
    "        print(num)\n",
    "        #printing number if it is armstrong\n",
    "    else:\n",
    "        # moving to next number if it is not armstrong\n",
    "        continue"
   ]
  }
 ],
 "metadata": {
  "kernelspec": {
   "display_name": "Python 3",
   "language": "python",
   "name": "python3"
  },
  "language_info": {
   "codemirror_mode": {
    "name": "ipython",
    "version": 3
   },
   "file_extension": ".py",
   "mimetype": "text/x-python",
   "name": "python",
   "nbconvert_exporter": "python",
   "pygments_lexer": "ipython3",
   "version": "3.8.5"
  }
 },
 "nbformat": 4,
 "nbformat_minor": 4
}
