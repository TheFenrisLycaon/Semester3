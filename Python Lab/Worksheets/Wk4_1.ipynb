{
 "cells": [
  {
   "cell_type": "markdown",
   "metadata": {},
   "source": [
    "### Q1 WAP to print every character in a string using loop."
   ]
  },
  {
   "cell_type": "code",
   "execution_count": 4,
   "metadata": {},
   "outputs": [
    {
     "name": "stdout",
     "output_type": "stream",
     "text": [
      "abc\n",
      "a\n",
      "b\n",
      "c\n"
     ]
    }
   ],
   "source": [
    "for i in (input()):\n",
    "    print(i)"
   ]
  },
  {
   "cell_type": "markdown",
   "metadata": {},
   "source": [
    "### Q2 WAP to find length of the string \"refrigerator\" without len."
   ]
  },
  {
   "cell_type": "code",
   "execution_count": 1,
   "metadata": {},
   "outputs": [
    {
     "data": {
      "text/plain": [
       "12"
      ]
     },
     "execution_count": 1,
     "metadata": {},
     "output_type": "execute_result"
    }
   ],
   "source": [
    "l = 0\n",
    "for _ in 'refrigerator':\n",
    "    l += 1\n",
    "l"
   ]
  },
  {
   "cell_type": "markdown",
   "metadata": {},
   "source": [
    "### Q3 WAP to take name and print abbr. form of it."
   ]
  },
  {
   "cell_type": "code",
   "execution_count": 10,
   "metadata": {},
   "outputs": [
    {
     "name": "stdout",
     "output_type": "stream",
     "text": [
      "Robert Bress Roser\n",
      "R. B. Roser\n"
     ]
    }
   ],
   "source": [
    "# print(f\"{x[0][0]}. {x[1][0]}. {x[2]}\" for x in input().split())\n",
    "q3 = input().split()\n",
    "for i in range(len(q3)-1):\n",
    "    print(q3[i][0], end = '. ')\n",
    "print(q3[-1])"
   ]
  },
  {
   "cell_type": "markdown",
   "metadata": {},
   "source": [
    "### Q4 WAP to add three numbers."
   ]
  },
  {
   "cell_type": "code",
   "execution_count": 25,
   "metadata": {},
   "outputs": [
    {
     "name": "stdout",
     "output_type": "stream",
     "text": [
      "1\n",
      "2\n",
      "3\n"
     ]
    },
    {
     "data": {
      "text/plain": [
       "6"
      ]
     },
     "execution_count": 25,
     "metadata": {},
     "output_type": "execute_result"
    }
   ],
   "source": [
    "sumQ4 = 0\n",
    "for _ in range(3):\n",
    "    sumQ4 += int(input())\n",
    "sumQ4"
   ]
  },
  {
   "cell_type": "markdown",
   "metadata": {},
   "source": [
    "### Q5 WAP toget string made of first and last 2 chars of a string"
   ]
  },
  {
   "cell_type": "code",
   "execution_count": 24,
   "metadata": {},
   "outputs": [
    {
     "name": "stdout",
     "output_type": "stream",
     "text": [
      "qwertyuio\n"
     ]
    },
    {
     "data": {
      "text/plain": [
       "'qwio'"
      ]
     },
     "execution_count": 24,
     "metadata": {},
     "output_type": "execute_result"
    }
   ],
   "source": [
    "q5 = input()\n",
    "res5 = q5[:2] + q5[-2:] if len(q5) > 2 else print('')\n",
    "res5"
   ]
  },
  {
   "cell_type": "markdown",
   "metadata": {},
   "source": [
    "### Q6 WAP to add 'ing' or 'ly' based on specific condition."
   ]
  },
  {
   "cell_type": "code",
   "execution_count": 26,
   "metadata": {},
   "outputs": [
    {
     "name": "stdout",
     "output_type": "stream",
     "text": [
      "qwertyu\n"
     ]
    },
    {
     "data": {
      "text/plain": [
       "'qwertyuing'"
      ]
     },
     "execution_count": 26,
     "metadata": {},
     "output_type": "execute_result"
    }
   ],
   "source": [
    "q6 = input()\n",
    "if len(q6) < 3:\n",
    "    pass\n",
    "else:\n",
    "    if q6[-3:] == 'ing':\n",
    "        q6 += 'ly'\n",
    "    else:\n",
    "        q6 += 'ing'\n",
    "q6"
   ]
  },
  {
   "cell_type": "markdown",
   "metadata": {},
   "source": [
    "### Q7 WAP to exchange first and last chars in a string"
   ]
  },
  {
   "cell_type": "code",
   "execution_count": 27,
   "metadata": {},
   "outputs": [
    {
     "name": "stdout",
     "output_type": "stream",
     "text": [
      "qwertyui\n"
     ]
    },
    {
     "data": {
      "text/plain": [
       "'iwertyuq'"
      ]
     },
     "execution_count": 27,
     "metadata": {},
     "output_type": "execute_result"
    }
   ],
   "source": [
    "q7 = input()\n",
    "res7 = q7[-1] + q7[1:-1] + q7[:1]\n",
    "res7"
   ]
  },
  {
   "cell_type": "markdown",
   "metadata": {},
   "source": [
    "### Q8 WAP to remove odd indexed chars from a string."
   ]
  },
  {
   "cell_type": "code",
   "execution_count": 29,
   "metadata": {},
   "outputs": [
    {
     "name": "stdout",
     "output_type": "stream",
     "text": [
      "qwertyuio\n"
     ]
    },
    {
     "data": {
      "text/plain": [
       "'qetuo'"
      ]
     },
     "execution_count": 29,
     "metadata": {},
     "output_type": "execute_result"
    }
   ],
   "source": [
    "q8 = input()\n",
    "res8 = q8[::2]\n",
    "res8"
   ]
  },
  {
   "cell_type": "markdown",
   "metadata": {},
   "source": [
    "### Q9 WAP to get last part of string before a specific char."
   ]
  },
  {
   "cell_type": "code",
   "execution_count": 40,
   "metadata": {},
   "outputs": [
    {
     "name": "stdout",
     "output_type": "stream",
     "text": [
      "Enter string::\tqwertyuiofertyuio\n",
      "Enter the desired character::\tf\n",
      "qwertyuio\n"
     ]
    }
   ],
   "source": [
    "q9 = input(\"Enter string::\\t\")\n",
    "key = input(\"Enter the desired character::\\t\")\n",
    "for i in range(len(q9)-1):\n",
    "    if q9[i] == key:\n",
    "        print(q9[:i])\n",
    "        break"
   ]
  },
  {
   "cell_type": "markdown",
   "metadata": {},
   "source": [
    "### Q10 WAP to removes spaces from a string."
   ]
  },
  {
   "cell_type": "code",
   "execution_count": 34,
   "metadata": {},
   "outputs": [
    {
     "name": "stdout",
     "output_type": "stream",
     "text": [
      "qiwo qwodn qcnqioweio\n"
     ]
    },
    {
     "data": {
      "text/plain": [
       "'qiwoqwodnqcnqioweio'"
      ]
     },
     "execution_count": 34,
     "metadata": {},
     "output_type": "execute_result"
    }
   ],
   "source": [
    "q10 = input()\n",
    "res10 = q10.replace(' ','')\n",
    "res10"
   ]
  }
 ],
 "metadata": {
  "kernelspec": {
   "display_name": "Python 3",
   "language": "python",
   "name": "python3"
  },
  "language_info": {
   "codemirror_mode": {
    "name": "ipython",
    "version": 3
   },
   "file_extension": ".py",
   "mimetype": "text/x-python",
   "name": "python",
   "nbconvert_exporter": "python",
   "pygments_lexer": "ipython3",
   "version": "3.8.5"
  }
 },
 "nbformat": 4,
 "nbformat_minor": 4
}
