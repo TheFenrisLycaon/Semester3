{
 "cells": [
  {
   "cell_type": "markdown",
   "metadata": {},
   "source": [
    "### Set Operation"
   ]
  },
  {
   "cell_type": "code",
   "execution_count": 36,
   "metadata": {},
   "outputs": [
    {
     "name": "stdout",
     "output_type": "stream",
     "text": [
      "2 5 9  12 13 15 16 17 18 19\n",
      "2 4 5 6 7 9 13 16\n",
      "1 2 5 9 10 11 12 13 15\n",
      "Students who play all three sports ::\t\t\t\t [2, 5, 9, 13]\n",
      "Students who play cricket and football but not hockey ::\t [16]\n",
      "Students who play exactly two sports ::\t\t\t\t [12, 15, 16]\n",
      "Students who play no sports ::\t\t\t\t\t [3, 8, 14, 20]\n"
     ]
    }
   ],
   "source": [
    "C = set(map(int, input().strip().split()))\n",
    "F = set(map(int, input().strip().split()))\n",
    "H = set(map(int, input().strip().split()))\n",
    "allStudents = {1,2,3,4,5,6,7,8,9,10,11,12,13,14,15,16,17,18,19,20}\n",
    "\n",
    "\n",
    "# # Example 1\n",
    "# C = set(map(int, '2 5 9  12 13 15 16 17 18 19'.strip().split()))\n",
    "# F = set(map(int, '2 4 5 6 7 9 13 16'.strip().split()))\n",
    "# H = set(map(int, '1 2 5 9 10 11 12 13 15'.strip().split()))\n",
    "\n",
    "\n",
    "CandF = C.intersection(F)\n",
    "CandH = C.intersection(H)\n",
    "FandH = F.intersection(H)\n",
    "\n",
    "allThree = CandF.intersection(CandH)\n",
    "CandFnotH = CandF.difference(H)\n",
    "anyTwo = CandF.union(CandH).union(FandH).difference(allThree)\n",
    "noSport = allStudents.difference(C).difference(H).difference(F)\n",
    "\n",
    "\n",
    "# print(sorted(allThree))\n",
    "# print(sorted(CandFnotH))\n",
    "# print(sorted(anyTwo))\n",
    "# print(sorted(noSport))\n",
    "\n",
    "# Output as per the suggestions of the external examiner.\n",
    "print(\"Students who play all three sports ::\\t\\t\\t\\t\", sorted(allThree))\n",
    "print(\"Students who play cricket and football but not hockey ::\\t\", sorted(CandFnotH))\n",
    "print(\"Students who play exactly two sports ::\\t\\t\\t\\t\", sorted(anyTwo))\n",
    "print(\"Students who play no sports ::\\t\\t\\t\\t\\t\", sorted(noSport))"
   ]
  },
  {
   "cell_type": "code",
   "execution_count": null,
   "metadata": {},
   "outputs": [],
   "source": [
    "2 5 9  12 13 15 16 17 18 19\n",
    "2 4 5 6 7 9 13 16\n",
    "1 2 5 9 10 11 12 13 15"
   ]
  }
 ],
 "metadata": {
  "kernelspec": {
   "display_name": "Python 3.8.5 64-bit ('base': conda)",
   "language": "python",
   "name": "python385jvsc74a57bd0ee12c3c5ada742385a1e64af9d7ac9ff43d5f0a1b5a8df2e7bf01e33db074f18"
  },
  "language_info": {
   "codemirror_mode": {
    "name": "ipython",
    "version": 3
   },
   "file_extension": ".py",
   "mimetype": "text/x-python",
   "name": "python",
   "nbconvert_exporter": "python",
   "pygments_lexer": "ipython3",
   "version": "3.8.5"
  }
 },
 "nbformat": 4,
 "nbformat_minor": 4
}
