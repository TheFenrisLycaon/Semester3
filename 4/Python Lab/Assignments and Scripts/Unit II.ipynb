{
 "cells": [
  {
   "cell_type": "code",
   "execution_count": 92,
   "metadata": {},
   "outputs": [
    {
     "data": {
      "text/plain": [
       "['SAS', 'R', 'PYTHON', 'SPARK']"
      ]
     },
     "execution_count": 92,
     "metadata": {},
     "output_type": "execute_result"
    }
   ],
   "source": [
    "li = ['SAS', 'R', 'PYTHON', 'SPSS']\n",
    "li.remove('SPSS')\n",
    "li.append('SPARK')\n",
    "# print(['SPARK' if x == 'SPSS' else x for x in ['SAS', 'R', 'PYTHON', 'SPSS']])\n",
    "li"
   ]
  },
  {
   "cell_type": "code",
   "execution_count": 93,
   "metadata": {},
   "outputs": [
    {
     "name": "stdout",
     "output_type": "stream",
     "text": [
      "['I love Data Science ', ' Python']\n"
     ]
    }
   ],
   "source": [
    "print('I love Data Science & Python'.split('&'))"
   ]
  },
  {
   "cell_type": "code",
   "execution_count": 94,
   "metadata": {},
   "outputs": [
    {
     "name": "stdout",
     "output_type": "stream",
     "text": [
      "Python syntax is easy to learn & Python syntax is very clear\n"
     ]
    }
   ],
   "source": [
    "print((' & ').join(['Python syntax is easy to learn', 'Python syntax is very clear']))"
   ]
  },
  {
   "cell_type": "code",
   "execution_count": 28,
   "metadata": {},
   "outputs": [
    {
     "name": "stdout",
     "output_type": "stream",
     "text": [
      "BIRTHDAY !!!\n",
      "\n",
      "[1] Tony\t\t[2] Barney\n",
      "[3] Harry\t\t[4] Ben\n",
      "\n",
      "Enter Name of Person to get their birth day::ben\n",
      "ben's Birthday is on Nov 18th\n"
     ]
    }
   ],
   "source": [
    "birthdays = {\n",
    "    'ben' : 'Nov 18th',\n",
    "    'barney' : 'Jul 23rd',\n",
    "    'harry' : 'Jul 31st',\n",
    "    'tony' : 'May 29th'\n",
    "}\n",
    "\n",
    "print(\"BIRTHDAY !!!\\n\\n[1] Tony\\t\\t[2] Barney\\n[3] Harry\\t\\t[4] Ben\\n\")\n",
    "k = input(\"Enter Name of Person to get their birth day::\")\n",
    "print(f\"{k}'s Birthday is on {birthdays[k.lower()]}\")"
   ]
  },
  {
   "cell_type": "code",
   "execution_count": 108,
   "metadata": {},
   "outputs": [
    {
     "name": "stdout",
     "output_type": "stream",
     "text": [
      "UNIVERSITY\n",
      "EVINUYTISR\n"
     ]
    }
   ],
   "source": [
    "s = input()\n",
    "first_half  = s[0:len(s)//2]\n",
    "second_half = s[len(s)//2 if len(s)%2 == 0 else ((len(s)//2)+1):]\n",
    "print(first_half[::-1] + s[len(s)//2]*(len(s)%2!=0) + second_half[::-1])"
   ]
  },
  {
   "cell_type": "code",
   "execution_count": null,
   "metadata": {},
   "outputs": [],
   "source": [
    "string = input ('1st string::\\t')\n",
    "listofstring = string.split()\n",
    "joinedstring = (' ').join(listofstring)\n",
    "print(listofstring,joinedstring,sep=('\\n'))"
   ]
  },
  {
   "cell_type": "code",
   "execution_count": 95,
   "metadata": {},
   "outputs": [
    {
     "name": "stdout",
     "output_type": "stream",
     "text": [
      "Python\n"
     ]
    }
   ],
   "source": [
    "l = [['SAS', 'R'], ['Tableau', 'SQL'], ['Python', 'Java']]\n",
    "flag  = 0\n",
    "for i in l:\n",
    "    for j in i:\n",
    "        if j == 'Python':\n",
    "            print(j)\n",
    "            flag  = 1\n",
    "            break\n",
    "        else: flag = 0\n",
    "if flag == 0: print(\"Not Found\")"
   ]
  },
  {
   "cell_type": "code",
   "execution_count": 63,
   "metadata": {},
   "outputs": [
    {
     "name": "stdout",
     "output_type": "stream",
     "text": [
      "[1, 2, 3, 4, 5, 6, 7, 8, 9, 10]\n"
     ]
    }
   ],
   "source": [
    "l1 = [1,2,3,4,5]\n",
    "l2 = [6,7,8,9,10]\n",
    "l1.extend(l2)\n",
    "print(l1)\n",
    "# print(l1+l2)"
   ]
  },
  {
   "cell_type": "code",
   "execution_count": 8,
   "metadata": {},
   "outputs": [
    {
     "data": {
      "text/plain": [
       "'Python'"
      ]
     },
     "execution_count": 8,
     "metadata": {},
     "output_type": "execute_result"
    }
   ],
   "source": [
    "k = 'I love Python programming'\n",
    "k[-18:-12]"
   ]
  },
  {
   "cell_type": "code",
   "execution_count": 13,
   "metadata": {},
   "outputs": [
    {
     "name": "stdout",
     "output_type": "stream",
     "text": [
      "ads\n",
      "YES\n"
     ]
    }
   ],
   "source": [
    "input_str = input()\n",
    "print(\"YES\") if input_str[0].lower() in ['a', 'b', 'c', 'd', 'e'] else print(\"NO\")"
   ]
  },
  {
   "cell_type": "code",
   "execution_count": 35,
   "metadata": {},
   "outputs": [
    {
     "data": {
      "text/plain": [
       "'pytho is fu'"
      ]
     },
     "execution_count": 35,
     "metadata": {},
     "output_type": "execute_result"
    }
   ],
   "source": [
    "s= 'python is fun'\n",
    "\"\".join(s.split('n'))"
   ]
  },
  {
   "cell_type": "code",
   "execution_count": 38,
   "metadata": {},
   "outputs": [
    {
     "name": "stdout",
     "output_type": "stream",
     "text": [
      "$8600\n"
     ]
    }
   ],
   "source": [
    "print('$'+str(int('$7900'.strip('$'))+700))"
   ]
  },
  {
   "cell_type": "code",
   "execution_count": 16,
   "metadata": {},
   "outputs": [
    {
     "data": {
      "text/plain": [
       "17.4"
      ]
     },
     "execution_count": 16,
     "metadata": {},
     "output_type": "execute_result"
    }
   ],
   "source": [
    "ls = [2,'datapoint1', 3.2, 9,1,0,2.2,'hi']\n",
    "res = 0\n",
    "for i in ls:\n",
    "    if not isinstance(i,str):\n",
    "        res += i\n",
    "# res = sum([i for i in ls if not isinstance(i,str)])\n",
    "res"
   ]
  },
  {
   "cell_type": "code",
   "execution_count": 11,
   "metadata": {},
   "outputs": [
    {
     "name": "stdout",
     "output_type": "stream",
     "text": [
      "['Akash', 'Anand', 'Julia', 'Jaadu']\n",
      "{1: 'Akash', 2: 'Anand', 3: 'Julia', 4: 'Jaadu'}\n"
     ]
    }
   ],
   "source": [
    "names = ['Akash', 'Fenris', 'Lycaon', 'Rishabh', 'Anand', 'Julia', 'Jaadu']\n",
    "print([x for x in names if len(x) < 6])\n",
    "d = dict(zip( [i for i in range(1,len(names)+1) ], [x for x in names if len(x) <= 5 ] ))\n",
    "print(d)"
   ]
  },
  {
   "cell_type": "code",
   "execution_count": 14,
   "metadata": {},
   "outputs": [
    {
     "data": {
      "text/plain": [
       "['Jaadu', 'Fenris', 'Lycaon', 'Rishabh', 'Anand', 'Julia', 'Akash']"
      ]
     },
     "execution_count": 14,
     "metadata": {},
     "output_type": "execute_result"
    }
   ],
   "source": [
    "names[-1], names[0] = names[0], names[-1]\n",
    "names"
   ]
  },
  {
   "cell_type": "code",
   "execution_count": 17,
   "metadata": {},
   "outputs": [
    {
     "name": "stdout",
     "output_type": "stream",
     "text": [
      "24\n"
     ]
    }
   ],
   "source": [
    "nums = [1,2,3,4,5,6,7,8,9,10]\n",
    "print(sum([x for x in nums[2::2]]))"
   ]
  },
  {
   "cell_type": "code",
   "execution_count": 24,
   "metadata": {},
   "outputs": [
    {
     "name": "stdout",
     "output_type": "stream",
     "text": [
      "[2, 4, 6, 8, 10]\n"
     ]
    }
   ],
   "source": [
    "print([x for x in range(2,11,2)])"
   ]
  },
  {
   "cell_type": "code",
   "execution_count": 26,
   "metadata": {},
   "outputs": [],
   "source": [
    "def fun(x):\n",
    "    return x%2!=0 and x%3!=0"
   ]
  },
  {
   "cell_type": "code",
   "execution_count": 27,
   "metadata": {},
   "outputs": [
    {
     "data": {
      "text/plain": [
       "[5, 7, 11, 13, 17, 19, 23]"
      ]
     },
     "execution_count": 27,
     "metadata": {},
     "output_type": "execute_result"
    }
   ],
   "source": [
    "list(filter(fun, range(2,25)))"
   ]
  },
  {
   "cell_type": "code",
   "execution_count": 1,
   "metadata": {},
   "outputs": [
    {
     "name": "stdout",
     "output_type": "stream",
     "text": [
      "0\n",
      "2\n"
     ]
    }
   ],
   "source": [
    "k = {0: '1', 2:'3'}\n",
    "for i in k:\n",
    "    print(i)"
   ]
  },
  {
   "cell_type": "code",
   "execution_count": null,
   "metadata": {},
   "outputs": [],
   "source": []
  }
 ],
 "metadata": {
  "kernelspec": {
   "display_name": "Python 3",
   "language": "python",
   "name": "python3"
  },
  "language_info": {
   "codemirror_mode": {
    "name": "ipython",
    "version": 3
   },
   "file_extension": ".py",
   "mimetype": "text/x-python",
   "name": "python",
   "nbconvert_exporter": "python",
   "pygments_lexer": "ipython3",
   "version": "3.8.5"
  }
 },
 "nbformat": 4,
 "nbformat_minor": 4
}
