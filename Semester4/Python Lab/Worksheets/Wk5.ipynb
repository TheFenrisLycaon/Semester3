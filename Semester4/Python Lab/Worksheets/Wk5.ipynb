{
 "cells": [
  {
   "cell_type": "code",
   "execution_count": 16,
   "metadata": {},
   "outputs": [
    {
     "name": "stdout",
     "output_type": "stream",
     "text": [
      "Enter a line::\tThis is the intro\n"
     ]
    }
   ],
   "source": [
    "with open('./intro.txt', 'w') as f:\n",
    "    f.write(input(\"Enter a line::\\t\")+str('\\n'))\n",
    "f.close()"
   ]
  },
  {
   "cell_type": "code",
   "execution_count": 28,
   "metadata": {},
   "outputs": [
    {
     "name": "stdout",
     "output_type": "stream",
     "text": [
      "Enter a line::\tA line was Entered in line 1\n",
      "Enter a line::\tThis is line 2\n",
      "Enter a line::\tC this is also a line, call it 3\n"
     ]
    }
   ],
   "source": [
    "with open('./MyFile.txt', 'w') as f:\n",
    "    f.write(input(\"Enter a line::\\t\")+str('\\n'))\n",
    "    f.write(input(\"Enter a line::\\t\")+str('\\n'))\n",
    "    f.write(input(\"Enter a line::\\t\")+str('\\n'))\n",
    "f.close()"
   ]
  },
  {
   "cell_type": "code",
   "execution_count": 29,
   "metadata": {},
   "outputs": [],
   "source": [
    "with open('./intro.txt', 'r') as f1:\n",
    "    text = f1.readlines()\n",
    "with open('./MyFile.txt', 'r') as f2:\n",
    "    text.extend(f2.readlines())\n",
    "with open('./merge.txt', 'w') as f:\n",
    "    f.write(''.join(text))\n",
    "f.close()"
   ]
  },
  {
   "cell_type": "code",
   "execution_count": 30,
   "metadata": {},
   "outputs": [
    {
     "data": {
      "text/plain": [
       "(5, 62, 3)"
      ]
     },
     "execution_count": 30,
     "metadata": {},
     "output_type": "execute_result"
    }
   ],
   "source": [
    "upper = lower = digits = 0\n",
    "with open('./merge.txt', 'r') as f1:\n",
    "    text = f1.readlines()\n",
    "for line in text:\n",
    "    for i in line:\n",
    "        if i.isupper() : upper += 1\n",
    "        elif i.islower() : lower += 1\n",
    "        elif i.isdigit() : digits += 1\n",
    "        else: pass\n",
    "upper, lower, digits"
   ]
  },
  {
   "cell_type": "code",
   "execution_count": 31,
   "metadata": {},
   "outputs": [
    {
     "data": {
      "text/plain": [
       "(4, 2)"
      ]
     },
     "execution_count": 31,
     "metadata": {},
     "output_type": "execute_result"
    }
   ],
   "source": [
    "res = lineCount = 0\n",
    "with open('./merge.txt', 'r') as f1:\n",
    "    text = f1.readlines()\n",
    "for line in text:\n",
    "    lineCount += 1\n",
    "    if line[0].lower() == 'a' or line[0].lower() == 'b' or line[0].lower() == 'c' : res += 1\n",
    "lineCount, res"
   ]
  }
 ],
 "metadata": {
  "kernelspec": {
   "display_name": "Python 3",
   "language": "python",
   "name": "python3"
  },
  "language_info": {
   "codemirror_mode": {
    "name": "ipython",
    "version": 3
   },
   "file_extension": ".py",
   "mimetype": "text/x-python",
   "name": "python",
   "nbconvert_exporter": "python",
   "pygments_lexer": "ipython3",
   "version": "3.8.5"
  }
 },
 "nbformat": 4,
 "nbformat_minor": 4
}
