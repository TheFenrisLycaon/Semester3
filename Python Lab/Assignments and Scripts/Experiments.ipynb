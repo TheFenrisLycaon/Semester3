{
 "cells": [
  {
   "cell_type": "markdown",
   "metadata": {},
   "source": [
    "### Experiment 1\n",
    "`Adding even digits of a number`"
   ]
  },
  {
   "cell_type": "code",
   "execution_count": 21,
   "metadata": {},
   "outputs": [
    {
     "name": "stdout",
     "output_type": "stream",
     "text": [
      "Enter a number::\t35791\n",
      "Sum of even digits::\t 0\n"
     ]
    }
   ],
   "source": [
    "\"\"\"Adding even digits of a number\"\"\"\n",
    "\n",
    "n = input(\"Enter a number::\\t\")\n",
    "res = 0\n",
    "\n",
    "for i in range(len(n)): \n",
    "    res += (int(n[i])%2==0)*int(n[i]) \n",
    "print(\"Sum of even digits::\\t\",res)"
   ]
  },
  {
   "cell_type": "markdown",
   "metadata": {},
   "source": [
    "### Experiment 2\n",
    "`Write a Python Program to find the square root of a number by Newton’s Method `"
   ]
  },
  {
   "cell_type": "markdown",
   "metadata": {},
   "source": [
    "### Experiment3:\n",
    "`Write a Python program to find the exponentiation of a number.`"
   ]
  },
  {
   "cell_type": "markdown",
   "metadata": {},
   "source": [
    "### Experiment4:\n",
    "`WAP to check co-primes using recursion`"
   ]
  },
  {
   "cell_type": "code",
   "execution_count": 38,
   "metadata": {},
   "outputs": [],
   "source": [
    "def gcd(a,b):\n",
    "    if b != 0:\n",
    "        return gcd(b, a % b)\n",
    "    else:\n",
    "        return a\n",
    "\n",
    "def coPrime(a,b):\n",
    "    if gcd(a,b) == 1:\n",
    "        return True\n",
    "    else:\n",
    "        return False"
   ]
  },
  {
   "cell_type": "code",
   "execution_count": 51,
   "metadata": {},
   "outputs": [
    {
     "name": "stdout",
     "output_type": "stream",
     "text": [
      "10\n",
      "20\n",
      "The numbers 10 and 20 are not co-prime\n"
     ]
    }
   ],
   "source": [
    "x,y = int(input()), int(input())\n",
    "print(\"The numbers {} and {} are\".format(x,y) + \" not\"*(not coPrime(x,y)) + \" co-prime\")"
   ]
  },
  {
   "cell_type": "code",
   "execution_count": null,
   "metadata": {},
   "outputs": [],
   "source": []
  }
 ],
 "metadata": {
  "kernelspec": {
   "display_name": "Python 3",
   "language": "python",
   "name": "python3"
  },
  "language_info": {
   "codemirror_mode": {
    "name": "ipython",
    "version": 3
   },
   "file_extension": ".py",
   "mimetype": "text/x-python",
   "name": "python",
   "nbconvert_exporter": "python",
   "pygments_lexer": "ipython3",
   "version": "3.8.5"
  }
 },
 "nbformat": 4,
 "nbformat_minor": 4
}
