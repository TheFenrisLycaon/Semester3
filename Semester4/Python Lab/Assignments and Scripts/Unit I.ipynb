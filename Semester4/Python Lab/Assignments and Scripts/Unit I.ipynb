{
 "cells": [
  {
   "cell_type": "code",
   "execution_count": null,
   "metadata": {},
   "outputs": [],
   "source": [
    "a,b,c=2,3,4\n",
    "print('a={} b={} c={}'.format(a,b,c))"
   ]
  },
  {
   "cell_type": "code",
   "execution_count": null,
   "metadata": {},
   "outputs": [],
   "source": [
    "numbers = list(map(int, input().split()))\n",
    "sum(numbers)"
   ]
  },
  {
   "cell_type": "code",
   "execution_count": null,
   "metadata": {},
   "outputs": [],
   "source": [
    "k = int(input(\"Enter Number\"))\n",
    "print(k)\n",
    "print(type(k))"
   ]
  },
  {
   "cell_type": "code",
   "execution_count": null,
   "metadata": {},
   "outputs": [],
   "source": [
    "num = list(map(int, input().split()))\n",
    "# print(num)\n",
    "for x in num : print(x) "
   ]
  },
  {
   "cell_type": "code",
   "execution_count": null,
   "metadata": {},
   "outputs": [],
   "source": [
    "num = int(input())\n",
    "print(\"\",num//1000,'\\n',num%1000//100,'\\n', num%100//10, '\\n', num%10, '\\n')"
   ]
  },
  {
   "cell_type": "code",
   "execution_count": null,
   "metadata": {},
   "outputs": [],
   "source": [
    "n = [1,2,3,4,5,6,7,8,9,10]\n",
    "res = [num for num in n if num % 2 == 0]\n",
    "# res\n",
    "sum(res)"
   ]
  },
  {
   "cell_type": "code",
   "execution_count": null,
   "metadata": {},
   "outputs": [],
   "source": [
    "# Adding even digits in a number\n",
    "\n",
    "n = int(input())\n",
    "k,n = n%10, n//10\n",
    "res = (k%2==0)*k\n",
    "k,n = n%10, n//10\n",
    "res += (k%2==0)*k\n",
    "k,\n",
    "res"
   ]
  },
  {
   "cell_type": "code",
   "execution_count": null,
   "metadata": {},
   "outputs": [],
   "source": [
    "# reversing a number\n",
    "\n",
    "k = input()\n",
    "res = int(k[::-1])\n",
    "res,type(res)"
   ]
  },
  {
   "cell_type": "code",
   "execution_count": null,
   "metadata": {},
   "outputs": [],
   "source": [
    "n = int(input(\"Enter Number to be checked::\\t\"))\n",
    "# can switch (n%5 == 0 and n%2 == 0) with n%10 but 🤷🏻‍♂️\n",
    "print(\"Divisible by 5 and 2\" * (n%5 == 0 and n%2 == 0) + \"Not divisible by 5 and 2\" * (n%5 != 0 or n%2 != 0))"
   ]
  },
  {
   "cell_type": "code",
   "execution_count": null,
   "metadata": {},
   "outputs": [],
   "source": [
    "print(\"Divisible by 5 and 2\") if int(input())%10 == 0 else print(\"Not Divisible by 5 and 2\")"
   ]
  },
  {
   "cell_type": "code",
   "execution_count": null,
   "metadata": {},
   "outputs": [],
   "source": [
    "a,b=2,3\n",
    "print(f\"{a} {b}\")\n",
    "# print(4*5-9+6//7)"
   ]
  },
  {
   "cell_type": "code",
   "execution_count": null,
   "metadata": {},
   "outputs": [],
   "source": [
    "c=1+10j\n",
    "print(c)"
   ]
  },
  {
   "cell_type": "code",
   "execution_count": null,
   "metadata": {},
   "outputs": [],
   "source": [
    "# # F to C\n",
    "# c = (f - 32) * 5/9 \n",
    "print(\"The temp in celsius is ::\\t{:.2f} C\".format((int(input(\"Enter temp in Fahrenheit::\\t\")) - 32) * 5/9)) "
   ]
  },
  {
   "cell_type": "code",
   "execution_count": null,
   "metadata": {},
   "outputs": [],
   "source": [
    "# area and radius of circle\n",
    "radius = int(input(\"Enter Radius in cm::\\t\"))\n",
    "pi = 3.14\n",
    "print(\"Area::\\t{:.2f} sq.cm\\nCircumference::\\t{:.2f} cm\".format(pi*radius*radius, 2*pi*radius))"
   ]
  },
  {
   "cell_type": "code",
   "execution_count": null,
   "metadata": {},
   "outputs": [],
   "source": [
    "# average of numbers\n",
    "numbers = list(map(int, input().split()))\n",
    "print(\"Avg ::\\t\", sum(numbers)/len(numbers))"
   ]
  },
  {
   "cell_type": "code",
   "execution_count": null,
   "metadata": {},
   "outputs": [],
   "source": [
    "# si and amount\n",
    "p = float(input(\"Enter amount::\\t\"))\n",
    "r = float(input(\"Enter rate::\\t\"))\n",
    "t = int(input(\"Enter time::\\t\"))\n",
    "amount = p*(1+r*t)\n",
    "si = p*r*t\n",
    "print(\"Intrest::\\t{}\\nAmount::\\t{}\".format(si,amount))"
   ]
  },
  {
   "cell_type": "code",
   "execution_count": null,
   "metadata": {},
   "outputs": [],
   "source": [
    "#area of triangle\n",
    "a,b,c = float(input(\"Enter side a::\\t\")),float(input(\"Enter side b::\\t\")),float(input(\"Enter side c::\\t\"))\n",
    "s = (a+b+c)/2\n",
    "print(\"Area::\\t{:.2f}\".format((s*(s-a)*(s-b)*(s-c))**0.5))"
   ]
  },
  {
   "cell_type": "code",
   "execution_count": null,
   "metadata": {},
   "outputs": [],
   "source": [
    "# m/s from km/h\n",
    "print(\"In m/s::\\t{:.2f}\".format((float(input(\"Enter km\\h::\\t\")))/3.6))"
   ]
  },
  {
   "cell_type": "code",
   "execution_count": null,
   "metadata": {},
   "outputs": [],
   "source": [
    "# final velocity\n",
    "u = float(input(\"Enter initial velocity ::\\t\"))\n",
    "a = float(input(\"Enter acceleration ::\\t\"))\n",
    "t = float(input(\"Enter time (in s)::\\t\"))\n",
    "print(f\"Velocity after {t} seconds :: \\t{u+a*t:.2f}\")"
   ]
  },
  {
   "cell_type": "code",
   "execution_count": null,
   "metadata": {},
   "outputs": [],
   "source": [
    "# age in seconds\n",
    "age = int(input(\"Enter age::\\t\"))\n",
    "y = 3.156 * 10**7\n",
    "print(\"Age in seconds::\\t\", age*y)"
   ]
  },
  {
   "cell_type": "code",
   "execution_count": null,
   "metadata": {},
   "outputs": [],
   "source": [
    "# even or odd/\n",
    "print(\"Even\") if int(input(\"Enter a number::\\t\"))%2==0 else print(\"Odd\")"
   ]
  },
  {
   "cell_type": "code",
   "execution_count": null,
   "metadata": {},
   "outputs": [],
   "source": [
    "# leap year\n",
    "y = int(input(\"Enter year::\\t\"))\n",
    "if (y%4) == 0:\n",
    "    if (y%100) == 0:\n",
    "        if (y% 400) == 0:\n",
    "                print(\"Leap\")\n",
    "        else:\n",
    "                print(\"Not leap\")\n",
    "    else:\n",
    "        print(\"Leap\")\n",
    "else:\n",
    "    print(\"Not Leap\")    "
   ]
  },
  {
   "cell_type": "code",
   "execution_count": null,
   "metadata": {},
   "outputs": [],
   "source": [
    "#printing whole numbers\n",
    "for x in range(1,11) : print(x) "
   ]
  },
  {
   "cell_type": "code",
   "execution_count": null,
   "metadata": {},
   "outputs": [],
   "source": [
    "# sum of first 50 even\n",
    "res = 0 \n",
    "for x in range(2,101,2): res += x\n",
    "res"
   ]
  },
  {
   "cell_type": "code",
   "execution_count": null,
   "metadata": {},
   "outputs": [],
   "source": [
    "# reverse a number using loops\n",
    "x = int(input('Enter number::\\t'))\n",
    "y = 0 \n",
    "while x>0:\n",
    "    r = x % 10\n",
    "    y = (y*10) + r\n",
    "    x //= 10\n",
    "print(y,type(y))\n",
    "\"\"\"\n",
    "without loops\n",
    "x = input()\n",
    "y = int(x[::-1])\n",
    "print(y)\n",
    "\"\"\""
   ]
  },
  {
   "cell_type": "code",
   "execution_count": 30,
   "metadata": {},
   "outputs": [
    {
     "name": "stdout",
     "output_type": "stream",
     "text": [
      "122\n",
      "Not an armstrong number\n"
     ]
    }
   ],
   "source": [
    "# armstrong number\n",
    "t = x = int(input())\n",
    "y = 0 \n",
    "n = len(str(x))\n",
    "while t > 0:\n",
    "   k = t % 10\n",
    "   y += k ** n\n",
    "   t //= 10\n",
    "\n",
    "print(\"Armstromg Number\") if x == y else print(\"Not an armstrong number\")"
   ]
  },
  {
   "cell_type": "code",
   "execution_count": null,
   "metadata": {},
   "outputs": [],
   "source": [
    "# summing all numbers to a given number\n",
    "res = 0\n",
    "n = int(input())\n",
    "while n > 0:\n",
    "    res += n\n",
    "    n -= 1 \n",
    "print(res)"
   ]
  },
  {
   "cell_type": "code",
   "execution_count": null,
   "metadata": {},
   "outputs": [],
   "source": [
    "#factorial \n",
    "res = 1\n",
    "n = int(input())\n",
    "while n > 0:\n",
    "    res *= n\n",
    "    n -= 1  \n",
    "print(res)"
   ]
  },
  {
   "cell_type": "code",
   "execution_count": null,
   "metadata": {},
   "outputs": [],
   "source": [
    "x = 1.000010101\n",
    "print(x)\n",
    "print(f\"{x.2f}\")"
   ]
  },
  {
   "cell_type": "code",
   "execution_count": null,
   "metadata": {},
   "outputs": [],
   "source": [
    "def giveDays(name):\n",
    "    if name.lower() in day30:\n",
    "        return 30\n",
    "    elif name.lower() in day31:\n",
    "        return 31\n",
    "    elif name.lower() in day28:\n",
    "        return 28\n",
    "    else:\n",
    "        return -1\n",
    "    \n",
    "day31 = ['january', 'march', 'may', 'july', 'august', 'october', 'december']\n",
    "day30 = ['april', 'june', 'september', 'november']\n",
    "day28 = ['february']\n",
    "\n",
    "if __name__ == '__main__':\n",
    "    print(giveDays(input(\"Enter the name of month::\\t\")))\n",
    "    "
   ]
  },
  {
   "cell_type": "code",
   "execution_count": null,
   "metadata": {},
   "outputs": [],
   "source": [
    "# password check\n",
    "\n",
    "sym = ['$', \"#\", \"@\"]\n",
    "\n",
    "def validate(s):\n",
    "    x = True\n",
    "    if len(s) >= 6 and len(s) <= 18:\n",
    "        if not any(x.isdigit() for x in s):\n",
    "            return \"No number\"\n",
    "        else:\n",
    "            if not any(x.isupper() for x in s):\n",
    "                return \"No uppercase character\"\n",
    "            else:\n",
    "                if not any(x.islower() for x in s):\n",
    "                    return \"No lowercase character\"\n",
    "                else:\n",
    "                    if not any(x in sym for x in s):\n",
    "                        return \"No symbol\"\n",
    "                    else:\n",
    "                        return \"Successful\"\n",
    "    else:\n",
    "        print(\"Length out of bounds.\")\n",
    "        \n",
    "print(validate(\"@5aA\"))\n",
    "# print(validate(\"asjkcnaskjcn\"))"
   ]
  },
  {
   "cell_type": "code",
   "execution_count": null,
   "metadata": {},
   "outputs": [],
   "source": [
    "import calendar\n",
    "print(calendar.isleap(int(input(\"Enter Year::\\t\"))))"
   ]
  },
  {
   "cell_type": "code",
   "execution_count": null,
   "metadata": {},
   "outputs": [],
   "source": [
    "# sum of numbers entered, easy way\n",
    "print(\"The sum of entered numbers is::\\t\", sum(map(int, input().split())))"
   ]
  },
  {
   "cell_type": "code",
   "execution_count": null,
   "metadata": {},
   "outputs": [],
   "source": [
    "# sum of numbers, no adv constructs\n",
    "res = 0 # initialize the output variable\n",
    "for i in range(int(input(\"Number of inputs::\\t\"))): # asks user how many number he wants to enter\n",
    "    res += int(input(f\"Enter number {i+1}::\\t\")) # adds number as it is being entered\n",
    "print(\"\\nSum ::\\t\",res) # display the final result"
   ]
  },
  {
   "cell_type": "code",
   "execution_count": null,
   "metadata": {},
   "outputs": [],
   "source": [
    "# fibonacci series upto n terms\n",
    "a ,b = 0,1\n",
    "n = int(input(\"Enter the number of terms::\\t\"))\n",
    "print(a,b,end=' ')\n",
    "for i in range(2,n+1):\n",
    "    out = a + b\n",
    "    a = b\n",
    "    b = out\n",
    "    print(out,end=' ')"
   ]
  },
  {
   "cell_type": "code",
   "execution_count": null,
   "metadata": {},
   "outputs": [],
   "source": [
    "# gcd of two numbers\n",
    "a,b = int(input(\"Enter num 1::\\t\")), int(input(\"Enter num 2::\\t\"))\n",
    "while(b): a, b = b, a % b\n",
    "print(a)"
   ]
  },
  {
   "cell_type": "code",
   "execution_count": null,
   "metadata": {},
   "outputs": [],
   "source": [
    "# break continue and pass\n",
    "i =3\n",
    "while i>0:\n",
    "    print(i)\n",
    "    i -= 1\n",
    "    if i == 2:\n",
    "        continue\n",
    "    print(\"next\")"
   ]
  },
  {
   "cell_type": "code",
   "execution_count": null,
   "metadata": {},
   "outputs": [],
   "source": [
    "# prints the max charatcter in a string\n",
    "print(chr(max(map(ord,input().lower()))))"
   ]
  },
  {
   "cell_type": "code",
   "execution_count": null,
   "metadata": {},
   "outputs": [],
   "source": [
    "# palindrome check\n",
    "k = input()\n",
    "res = k[::-1] \n",
    "# print(res)\n",
    "if res == k:\n",
    "    print(\"Palindrome\")\n",
    "else:\n",
    "    print(\"Not a plaindrome\")"
   ]
  },
  {
   "cell_type": "code",
   "execution_count": null,
   "metadata": {},
   "outputs": [],
   "source": [
    "# check perfect number\n",
    "def isPerfect(n):\n",
    "    res = 0\n",
    "    for i in range(1,n):\n",
    "        if n%i==0:\n",
    "           res += i\n",
    "    if res == n:\n",
    "        return True\n",
    "    else:\n",
    "        return False"
   ]
  },
  {
   "cell_type": "code",
   "execution_count": null,
   "metadata": {},
   "outputs": [],
   "source": [
    "print(\"Perfect\") if isPerfect(int(input())) else print(\"Not perfect\")"
   ]
  },
  {
   "cell_type": "code",
   "execution_count": null,
   "metadata": {},
   "outputs": [],
   "source": [
    "# print first n perfect numbers\n",
    "k = int(input())\n",
    "x = 1\n",
    "count = 0\n",
    "while count < k:\n",
    "    if isPerfect(x):\n",
    "        count += 1\n",
    "        print(x)\n",
    "    x += 1"
   ]
  },
  {
   "cell_type": "code",
   "execution_count": null,
   "metadata": {},
   "outputs": [],
   "source": [
    "# add odd upto n\n",
    "res = 0\n",
    "for i in range(3,int(input())+1):\n",
    "    if i%2!=0:\n",
    "#         print(i)\n",
    "        res+=i\n",
    "print(res)\n",
    "    "
   ]
  },
  {
   "cell_type": "code",
   "execution_count": null,
   "metadata": {},
   "outputs": [],
   "source": [
    "# swapping without 3rd var\n",
    "a, b = int(input()), int(input())\n",
    "print(a,b)\n",
    "a,b = b,a\n",
    "print(a,b)"
   ]
  },
  {
   "cell_type": "code",
   "execution_count": null,
   "metadata": {},
   "outputs": [],
   "source": [
    "# greatest of three with if-else (naiive)\n",
    "a,b,c = int(input()), int(input()), int(input())\n",
    "if a > b:\n",
    "    if a > c:\n",
    "        print(a)\n",
    "    else:\n",
    "        print(c)\n",
    "else:\n",
    "    if b>c:\n",
    "        print(b)\n",
    "    else:\n",
    "        print(c)        "
   ]
  },
  {
   "cell_type": "code",
   "execution_count": null,
   "metadata": {},
   "outputs": [],
   "source": [
    "# greatest of three \n",
    "print(max(map(int, input().split())))"
   ]
  },
  {
   "cell_type": "code",
   "execution_count": null,
   "metadata": {},
   "outputs": [],
   "source": [
    "def primes(known_primes=[7, 11, 13, 17, 19, 23, 29]):\n",
    "    # 2, 3, 5 wheel\n",
    "    yield from (2, 3, 5)\n",
    "    yield from known_primes\n",
    "    # The first time the generator runs, known_primes\n",
    "    #   contains all primes such that  5 < p < 2 * 3 * 5\n",
    "    # After each wheel cycle the list of known primes\n",
    "    #   will be added to.\n",
    "    # We need to figure out where to continue from,\n",
    "    #   which is the next multiple of 30 higher than\n",
    "    #   the last known_prime:\n",
    "    base = 30 * (known_primes[-1] // 30 + 1)\n",
    "    new_primes = []\n",
    "    while 1:\n",
    "        # offs is chosen so  30*i + offs cannot be a multiple of 2, 3, or 5\n",
    "        for offs in (1, 7, 11, 13, 17, 19, 23, 29):\n",
    "            k = base + offs    # next prime candidate\n",
    "            for p in known_primes:\n",
    "                if not k % p:\n",
    "                    # found a factor - not prime\n",
    "                    break\n",
    "                elif p*p > k:\n",
    "                    # no smaller prime factors - found a new prime\n",
    "                    new_primes.append(k)\n",
    "                    break\n",
    "        if new_primes:\n",
    "            yield from new_primes\n",
    "            known_primes.extend(new_primes)\n",
    "            new_primes = []\n",
    "        base += 30\n",
    "    \n",
    "def is_prime(n):\n",
    "    for p in primes():\n",
    "        if not n % p:\n",
    "            # found a factor - not prime\n",
    "            return False\n",
    "        elif p * p > n:\n",
    "            # no factors found - is prime\n",
    "            return True"
   ]
  },
  {
   "cell_type": "code",
   "execution_count": null,
   "metadata": {},
   "outputs": [],
   "source": [
    "# count = 0\n",
    "for p in primes() and count in range(int(input(\"Enter number of perfect numbers::\\t\"))):\n",
    "    pp = 2**p\n",
    "    perfect = (pp - 1) * (pp // 2)\n",
    "    if is_prime(pp - 1):\n",
    "        print(perfect)\n",
    "        count += 1"
   ]
  },
  {
   "cell_type": "code",
   "execution_count": null,
   "metadata": {},
   "outputs": [],
   "source": [
    "k = int(input())\n",
    "fact = []\n",
    "i = 2 \n",
    "while len(fact) < k:\n",
    "    m = 2**i-1\n",
    "    if is_prime(m):\n",
    "        fact.append(i)\n",
    "    i += 1\n",
    "fact"
   ]
  },
  {
   "cell_type": "code",
   "execution_count": null,
   "metadata": {},
   "outputs": [],
   "source": [
    "fact = [i for i in range(2,50) if is_prime(2**i-1)]\n",
    "fact"
   ]
  },
  {
   "cell_type": "code",
   "execution_count": null,
   "metadata": {},
   "outputs": [],
   "source": [
    "for i in fact:\n",
    "    x = 2**i\n",
    "    print((x-1) * (x//2))"
   ]
  },
  {
   "cell_type": "code",
   "execution_count": null,
   "metadata": {},
   "outputs": [],
   "source": [
    "print(\"Hell{0!r} and {0!s}\".format('foo', 'bin'))\n",
    "#  !r prints representation of a var\n",
    "#  !s converts it to str"
   ]
  },
  {
   "cell_type": "code",
   "execution_count": null,
   "metadata": {},
   "outputs": [],
   "source": [
    "k = 0\n",
    "for i in range(6): \n",
    "    for j in range(i):\n",
    "        print(k,end=' ')\n",
    "        k+=1\n",
    "    print()"
   ]
  },
  {
   "cell_type": "code",
   "execution_count": null,
   "metadata": {},
   "outputs": [],
   "source": [
    "def swap(a,b):\n",
    "    return b,a\n",
    "\n",
    "print((2,3), swap(2,3))"
   ]
  },
  {
   "cell_type": "code",
   "execution_count": null,
   "metadata": {},
   "outputs": [],
   "source": [
    "length = 0\n",
    "for i in input():\n",
    "    length += 1\n",
    "print(length)\n",
    "# print(len('refrigerator'))"
   ]
  },
  {
   "cell_type": "code",
   "execution_count": 6,
   "metadata": {},
   "outputs": [
    {
     "name": "stdout",
     "output_type": "stream",
     "text": [
      "-1\n"
     ]
    }
   ],
   "source": [
    "res = ' '\n",
    "while(1):\n",
    "    k = input()\n",
    "    if k == '-1' or ' ' + k + ' ' in res:\n",
    "        break \n",
    "    else:\n",
    "        print(f\"{k} entered the room\")\n",
    "        res += k + ' '\n",
    "# print(res)"
   ]
  },
  {
   "cell_type": "code",
   "execution_count": 10,
   "metadata": {},
   "outputs": [
    {
     "name": "stdout",
     "output_type": "stream",
     "text": [
      "Enter dividend::\t4\n",
      "Enter divisor::\t2\n",
      "4 is divisible by 2\n"
     ]
    }
   ],
   "source": [
    "x,y = int(input(\"Enter dividend::\\t\")), int(input(\"Enter divisor::\\t\"))\n",
    "print(f\"{x} is divisible by {y}\") if x%y == 0 else print(f\"{x} is not divisible by {y}\")"
   ]
  },
  {
   "cell_type": "code",
   "execution_count": 25,
   "metadata": {},
   "outputs": [
    {
     "name": "stdout",
     "output_type": "stream",
     "text": [
      "4\n",
      "[8, 12, 16, 20, 24, 28, 32, 36, 40, 44, 48, 52, 56, 60, 64, 68, 72, 76]\n"
     ]
    }
   ],
   "source": [
    "x = int(input())\n",
    "print([x*i for i in range(2,20)])"
   ]
  },
  {
   "cell_type": "code",
   "execution_count": 46,
   "metadata": {},
   "outputs": [
    {
     "name": "stdout",
     "output_type": "stream",
     "text": [
      "\\\n",
      "92\n"
     ]
    }
   ],
   "source": [
    "print(ord(input()))"
   ]
  }
 ],
 "metadata": {
  "kernelspec": {
   "display_name": "Python 3",
   "language": "python",
   "name": "python3"
  },
  "language_info": {
   "codemirror_mode": {
    "name": "ipython",
    "version": 3
   },
   "file_extension": ".py",
   "mimetype": "text/x-python",
   "name": "python",
   "nbconvert_exporter": "python",
   "pygments_lexer": "ipython3",
   "version": "3.8.5"
  }
 },
 "nbformat": 4,
 "nbformat_minor": 4
}
