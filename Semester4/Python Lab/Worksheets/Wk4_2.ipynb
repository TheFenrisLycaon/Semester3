{
 "cells": [
  {
   "cell_type": "markdown",
   "metadata": {},
   "source": [
    "### Q1 WAP to sum all the items in a list"
   ]
  },
  {
   "cell_type": "code",
   "execution_count": null,
   "metadata": {},
   "outputs": [],
   "source": [
    "q1 = list(map(int, input().split()))\n",
    "print(sum(q1))"
   ]
  },
  {
   "cell_type": "markdown",
   "metadata": {},
   "source": [
    "### Q2 WAP to convert list to string"
   ]
  },
  {
   "cell_type": "code",
   "execution_count": null,
   "metadata": {},
   "outputs": [],
   "source": [
    "q2 = [\"I\", \"Love\", \"Python\"]\n",
    "res2 = \" \".join(q2)\n",
    "q2_1 = \"VVS Laxman\"\n",
    "res2_1 = q2_1.split(' ')\n",
    "print(res2,res2_1)"
   ]
  },
  {
   "cell_type": "markdown",
   "metadata": {},
   "source": [
    "### Q3 WAP to print a specified list after removing the 0th, 4th and 5th elements."
   ]
  },
  {
   "cell_type": "code",
   "execution_count": null,
   "metadata": {},
   "outputs": [],
   "source": [
    "q3 = [0,1,2,3,4,5,6,7,8,9]\n",
    "res3 = q3[1:4] + q3[6:]\n",
    "res3"
   ]
  },
  {
   "cell_type": "markdown",
   "metadata": {},
   "source": [
    "### Q4 WAP to print a square of the given list."
   ]
  },
  {
   "cell_type": "code",
   "execution_count": null,
   "metadata": {},
   "outputs": [],
   "source": [
    "q4 = [5,6,7,8]\n",
    "res4 = []\n",
    "for i in q4:\n",
    "    print(i**2)\n",
    "    res4.append(i**2)\n",
    "res4"
   ]
  },
  {
   "cell_type": "markdown",
   "metadata": {},
   "source": [
    "### Q5 WAP to flatten a shallow list."
   ]
  },
  {
   "cell_type": "code",
   "execution_count": 7,
   "metadata": {},
   "outputs": [
    {
     "name": "stdout",
     "output_type": "stream",
     "text": [
      "1 2 3\n",
      "4 5 6\n",
      "\n",
      "['1', '2', '3']\n",
      "['4', '5', '6']\n",
      "['1', '2', '3', '4', '5', '6']\n"
     ]
    }
   ],
   "source": [
    "q5 = []\n",
    "while True:\n",
    "    newList = input()\n",
    "    if not newList:\n",
    "        break\n",
    "    q5.append(newList.split())\n",
    "print(*q5, sep=\"\\n\")\n",
    "print([x for i in q5 for x in i])"
   ]
  },
  {
   "cell_type": "markdown",
   "metadata": {},
   "source": [
    "### Q6 WAP to create a list by concatenating a  list which range goes from 1 to n."
   ]
  },
  {
   "cell_type": "code",
   "execution_count": 10,
   "metadata": {},
   "outputs": [
    {
     "name": "stdout",
     "output_type": "stream",
     "text": [
      "Enter n::\t3 \n",
      "Enter list::\tp q\n"
     ]
    },
    {
     "data": {
      "text/plain": [
       "['p0', 'q0', 'p1', 'q1', 'p2', 'q2']"
      ]
     },
     "execution_count": 10,
     "metadata": {},
     "output_type": "execute_result"
    }
   ],
   "source": [
    "n = int(input(\"Enter n::\\t\"))\n",
    "q6 = input(\"Enter list::\\t\").split()\n",
    "res6 = []\n",
    "for i in range(n):\n",
    "    for j in q6:\n",
    "        res6.append(j+str(i+1))\n",
    "res6"
   ]
  },
  {
   "cell_type": "code",
   "execution_count": null,
   "metadata": {},
   "outputs": [],
   "source": [
    "print(\"*\"*())"
   ]
  }
 ],
 "metadata": {
  "kernelspec": {
   "display_name": "Python 3",
   "language": "python",
   "name": "python3"
  },
  "language_info": {
   "codemirror_mode": {
    "name": "ipython",
    "version": 3
   },
   "file_extension": ".py",
   "mimetype": "text/x-python",
   "name": "python",
   "nbconvert_exporter": "python",
   "pygments_lexer": "ipython3",
   "version": "3.8.5"
  }
 },
 "nbformat": 4,
 "nbformat_minor": 4
}
