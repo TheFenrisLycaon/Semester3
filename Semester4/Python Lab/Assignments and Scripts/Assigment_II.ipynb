{
 "cells": [
  {
   "cell_type": "code",
   "execution_count": 34,
   "metadata": {},
   "outputs": [
    {
     "name": "stdout",
     "output_type": "stream",
     "text": [
      "[[2, 1], 2, 3, [2, 4], 5, 1]\n"
     ]
    }
   ],
   "source": [
    "# run list encoding\n",
    "initialList = [1, 1, 2, 3, 4, 4, 5, 1]\n",
    "# initialList = 'aabcddddadnss'\n",
    "count = 1\n",
    "res = []\n",
    "for i in range(len(initialList)):\n",
    "    try: \n",
    "        temp = initialList[i+1]\n",
    "    except:\n",
    "        res.append([count, initialList[i-1]]) if count != 1 else res.append(initialList[i])\n",
    "        count = 1\n",
    "    if temp == initialList[i]:\n",
    "        count += 1\n",
    "        continue\n",
    "    else:\n",
    "        res.append([count, initialList[i-1]]) if count != 1 else res.append(initialList[i])\n",
    "        count = 1\n",
    "print(res)"
   ]
  },
  {
   "cell_type": "code",
   "execution_count": 35,
   "metadata": {},
   "outputs": [
    {
     "name": "stdout",
     "output_type": "stream",
     "text": [
      "Current character a position at 0\n",
      "Current character i position at 1\n",
      "Current character t position at 2\n",
      "Current character c position at 3\n",
      "Current character s position at 4\n",
      "Current character e position at 5\n",
      "Current character c position at 6\n",
      "Current character u position at 7\n"
     ]
    }
   ],
   "source": [
    "# Print character and index\n",
    "initialString = 'aitcsecu'\n",
    "for i in range(len(initialString)):\n",
    "    print(f\"Current character {initialString[i]} position at {i}\")"
   ]
  },
  {
   "cell_type": "code",
   "execution_count": 41,
   "metadata": {},
   "outputs": [
    {
     "name": "stdout",
     "output_type": "stream",
     "text": [
      "15\n",
      "25\n",
      "35\n"
     ]
    }
   ],
   "source": [
    "# Access 5th value of list in a dict\n",
    "d = {'x': [11, 12, 13, 14, 15, 16, 17, 18, 19],\n",
    "     'y': [21, 22, 23, 24, 25, 26, 27, 28, 29],\n",
    "     'z': [31, 32, 33, 34, 35, 36, 37, 38, 39]\n",
    "    }\n",
    "\n",
    "for key in d.keys():\n",
    "    print(d[key][4])"
   ]
  },
  {
   "cell_type": "code",
   "execution_count": 48,
   "metadata": {},
   "outputs": [
    {
     "data": {
      "text/plain": [
       "[{'color_name': 'Black', 'color_code': '#000000'},\n",
       " {'color_name': 'Red', 'color_code': '#FF0000'},\n",
       " {'color_name': 'Maroon', 'color_code': '#800000'},\n",
       " {'color_name': 'Yellow', 'color_code': '#FFFF00'}]"
      ]
     },
     "execution_count": 48,
     "metadata": {},
     "output_type": "execute_result"
    }
   ],
   "source": [
    "# Change list to list of dict\n",
    "colorName, colorCode = [\"Black\", \"Red\", \"Maroon\", \"Yellow\"], [\"#000000\", \"#FF0000\", \"#800000\", \"#FFFF00\"]\n",
    "res = []\n",
    "for i in range(len(colorName)):\n",
    "    res.append({'color_name' : colorName[i] , 'color_code' : colorCode[i]})\n",
    "res"
   ]
  },
  {
   "cell_type": "code",
   "execution_count": 69,
   "metadata": {},
   "outputs": [
    {
     "name": "stdout",
     "output_type": "stream",
     "text": [
      "[3, 4, 6, 2, 6, 7, 6, 9, 10, 7, 4, 4, 5, 3, 2, 9, 7, 1, 0, 0, 0, 0, 0, 0, 0, 0, 0]\n"
     ]
    }
   ],
   "source": [
    "# Put 0 and end \n",
    "\n",
    "initialZero = [3, 4, 0, 0, 0, 6, 2, 0, 6, 7, 6, 0, 0, 0, 9, 10, 7, 4, 4, 5, 3, 0, 0, 2, 9, 7, 1]\n",
    "res = []\n",
    "count = 0\n",
    "res = list(filter(lambda a: a != 0, initialZero))\n",
    "res += [0]*(len(initialZero) - len(res))\n",
    "print(res)"
   ]
  },
  {
   "cell_type": "code",
   "execution_count": 1,
   "metadata": {},
   "outputs": [
    {
     "name": "stdout",
     "output_type": "stream",
     "text": [
      "['ab', 'efgh', '']\n"
     ]
    }
   ],
   "source": [
    "print('abcdefghcd'.split('cd',2))"
   ]
  },
  {
   "cell_type": "code",
   "execution_count": null,
   "metadata": {},
   "outputs": [],
   "source": []
  }
 ],
 "metadata": {
  "kernelspec": {
   "display_name": "Python 3",
   "language": "python",
   "name": "python3"
  },
  "language_info": {
   "codemirror_mode": {
    "name": "ipython",
    "version": 3
   },
   "file_extension": ".py",
   "mimetype": "text/x-python",
   "name": "python",
   "nbconvert_exporter": "python",
   "pygments_lexer": "ipython3",
   "version": "3.8.5"
  }
 },
 "nbformat": 4,
 "nbformat_minor": 4
}
