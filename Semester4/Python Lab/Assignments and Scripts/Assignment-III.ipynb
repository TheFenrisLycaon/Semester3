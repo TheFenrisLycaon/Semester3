{
 "cells": [
  {
   "cell_type": "markdown",
   "metadata": {},
   "source": [
    "###### Write a function AMCount() in Python, which should read each character of a text file STORY.TXT, should count and display the occurance of alphabets A and M (including small cases a and m too)."
   ]
  },
  {
   "cell_type": "code",
   "execution_count": 12,
   "metadata": {},
   "outputs": [
    {
     "name": "stdout",
     "output_type": "stream",
     "text": [
      "A or a:4\n",
      "M or m :2\n"
     ]
    }
   ],
   "source": [
    "def AMCount():\n",
    "    numA = 0\n",
    "    numM = 0\n",
    "    with open('STORY.TXT', 'r') as f:\n",
    "        for line in f.readlines():\n",
    "            for letter in list(line):\n",
    "                if letter.lower() == 'a':\n",
    "                    numA += 1\n",
    "                elif letter.lower() == 'm':\n",
    "                    numM += 1\n",
    "                else:\n",
    "                    pass\n",
    "                \n",
    "    print('A or a:',numA, sep='')\n",
    "    print('M or m :',numM, sep='')\n",
    "AMCount()"
   ]
  },
  {
   "cell_type": "markdown",
   "metadata": {},
   "source": [
    "###### Write a function in Python to count uppercase character in a text file."
   ]
  },
  {
   "cell_type": "code",
   "execution_count": 21,
   "metadata": {},
   "outputs": [
    {
     "name": "stdout",
     "output_type": "stream",
     "text": [
      "2\n"
     ]
    }
   ],
   "source": [
    "def checkUpper():\n",
    "    upperCount = 0\n",
    "    with open('STORY.TXT', 'r') as f:\n",
    "        for line in f.readlines():\n",
    "            for letter in list(line):\n",
    "                if ord(letter) in range(65,91):\n",
    "                    upperCount+=1\n",
    "                else:\n",
    "                    pass\n",
    "    print(upperCount)\n",
    "checkUpper()"
   ]
  },
  {
   "cell_type": "markdown",
   "metadata": {},
   "source": [
    "###### write a code to Count The Number Of Times Each Value Appears In An Array Of Integers."
   ]
  },
  {
   "cell_type": "code",
   "execution_count": 43,
   "metadata": {},
   "outputs": [
    {
     "name": "stdout",
     "output_type": "stream",
     "text": [
      "['1 has appeared 2 times', '2 has appeared 2 times', '3 has appeared 2 times', '4 has appeared 2 times', '5 has appeared 2 times', '6 has appeared 2 times', '7 has appeared 2 times', '8 has appeared 2 times', '9 has appeared 1 times']\n"
     ]
    }
   ],
   "source": [
    "def counter():\n",
    "    num = [1,2,3,4,5,6,7,8,9,8,7,6,5,4,3,2,1]\n",
    "#     res = [f'{i} has appeared {num.count(i)} times' for i in set(num)]\n",
    "    res = []\n",
    "    for i in set(num):\n",
    "        tempCount = 0\n",
    "        for j in num:\n",
    "            if i == j:\n",
    "                tempCount += 1\n",
    "        res.append(f'{i} has appeared {tempCount} times')\n",
    "    print(res)\n",
    "counter()"
   ]
  },
  {
   "cell_type": "markdown",
   "metadata": {},
   "source": [
    "###### Write a user defined function createFile() to input data for a record and add to Book.dat.\n",
    "\n",
    "###### Write a function countRec(Author) in Python which accepts the Author name as parameter and count and return number of books by the given Author are stored in the binary file \"Book.dat\"\n",
    "\n"
   ]
  },
  {
   "cell_type": "code",
   "execution_count": 36,
   "metadata": {},
   "outputs": [
    {
     "data": {
      "text/plain": [
       "2"
      ]
     },
     "execution_count": 36,
     "metadata": {},
     "output_type": "execute_result"
    }
   ],
   "source": [
    "import pickle \n",
    "\n",
    "def createFile():\n",
    "    with open(\"Book.dat\",\"ab\") as fobj:  \n",
    "        BookNo=int(input(\"Book Number::\\t\"))  \n",
    "        BookName=input(\"Name::\\t\")  \n",
    "        Author = input(\"Author::\\t\")  \n",
    "        Price = int(input(\"Price::\\t\")) \n",
    "        rec=[BookNo,BookName,Author,Price]  \n",
    "        pickle.dump(rec,fobj)\n",
    "\n",
    "def CountRec(Author):  \n",
    "    fobj=open(\"Book.dat\",\"rb\")  \n",
    "    num = 0  \n",
    "    try:  \n",
    "        while True:  \n",
    "            rec=pickle.load(fobj)  \n",
    "            if Author==rec[2]:  \n",
    "                num += 1  \n",
    "    except:  \n",
    "        pass\n",
    "    return num\n",
    "\n",
    "if __name__ == '__main__':\n",
    "    for i in range(3):\n",
    "        createFile()\n",
    "\n",
    "    CountRec('Stinson')"
   ]
  },
  {
   "cell_type": "markdown",
   "metadata": {},
   "source": [
    "###### What Advantages Do Numpy Arrays Offer Over (nested) Python Lists?"
   ]
  },
  {
   "cell_type": "markdown",
   "metadata": {},
   "source": [
    "- Lists support efficient functions and are easy to make and manipulate using list comprehensions, but, they don’t support “vectorized” operations, like elementwise addition and multiplication. \n",
    "- They are slow, since, to support multiple object types, Python stores the type and its functionalities along with the element and has to execute type-dispatching code when operating on each element. \n",
    "- Very few list operations can be carried out by efficient C loops because, each iteration would require a type checks.\n",
    "- Python lists keep a header, which keeps track of the length of the list, and has a reference to the list. The list is actually a list of references to the items, which are likely not contiguous, i.e., iterating through the list is somewhat expensive, in that there is an extra level of indirection. Moving around memory to retrieve the items is of course slower than reading contiguous data from memory. \n",
    "- While numpy arrays, are faster because they are just C data structures ( since numpy is written in C ) and the elements of the array are contiguous in memory, just as they are in C. This makes iteration much faster.\n",
    "- numpy arrays use less memory than Python lists. For larger arrays, this matters as using numpy may in fact make it possible to store all your data in memory in a case where Python lists would be too large."
   ]
  }
 ],
 "metadata": {
  "kernelspec": {
   "display_name": "Python 3.8.5 64-bit ('base': conda)",
   "language": "python",
   "name": "python385jvsc74a57bd0ee12c3c5ada742385a1e64af9d7ac9ff43d5f0a1b5a8df2e7bf01e33db074f18"
  },
  "language_info": {
   "codemirror_mode": {
    "name": "ipython",
    "version": 3
   },
   "file_extension": ".py",
   "mimetype": "text/x-python",
   "name": "python",
   "nbconvert_exporter": "python",
   "pygments_lexer": "ipython3",
   "version": "3.8.5"
  }
 },
 "nbformat": 4,
 "nbformat_minor": 4
}
