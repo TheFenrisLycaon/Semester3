{
 "cells": [
  {
   "cell_type": "code",
   "execution_count": 4,
   "metadata": {},
   "outputs": [],
   "source": [
    "# used functions\n",
    "def getDigits(n):\n",
    "    temp = n\n",
    "    nDigits = []\n",
    "    while temp != 0:\n",
    "        nDigits.append(temp%10)\n",
    "        temp //= 10\n",
    "    return nDigits\n",
    "\n",
    "def isPerfect(n):\n",
    "    res = 0\n",
    "    for i in range(1,n):\n",
    "        if n%i==0:\n",
    "           res += i\n",
    "    if res == n:\n",
    "        return True\n",
    "    else:\n",
    "        return False\n",
    "    \n",
    "def isPrime(n):\n",
    "    for i in range(2, n//2+1):\n",
    "        if n%i==0:\n",
    "            return False\n",
    "    return True\n",
    "\n",
    "def isStrong(n):\n",
    "    temp = n\n",
    "    nDigits = getDigits(n)\n",
    "    strong = 0\n",
    "\n",
    "    for i in nDigits:\n",
    "        strong += factorial(i)\n",
    "\n",
    "    if strong == n:\n",
    "        return True\n",
    "    else:\n",
    "        return False\n",
    "    \n",
    "def hcf(a,b):\n",
    "    res = 1\n",
    "    for i in range(1, (a*(a<b) + b*(b<a))+1):\n",
    "        if a%i==0 and b%i==0:\n",
    "            res = i\n",
    "    return res"
   ]
  },
  {
   "cell_type": "markdown",
   "metadata": {},
   "source": [
    "### 1.  Palindrome"
   ]
  },
  {
   "cell_type": "code",
   "execution_count": null,
   "metadata": {},
   "outputs": [],
   "source": [
    "n = int(input())\n",
    "digits = getDigits(n)\n",
    "res = 0\n",
    "for i in range(len(digits)):\n",
    "    res += digits[i]*(10**(len(digits) - i))\n",
    "if res/10 == n:\n",
    "    print(\"Palindrome\")\n",
    "\n",
    "# for string support use code below\n",
    "# k = input()\n",
    "# res = k[::-1] \n",
    "# # print(res)\n",
    "# if res == k:\n",
    "#     print(\"Palindrome\")\n",
    "# else:\n",
    "#     print(\"Not a plaindrome\")"
   ]
  },
  {
   "cell_type": "markdown",
   "metadata": {},
   "source": [
    "### 2. Perfect number"
   ]
  },
  {
   "cell_type": "code",
   "execution_count": 3,
   "metadata": {},
   "outputs": [
    {
     "name": "stdout",
     "output_type": "stream",
     "text": [
      "28\n",
      "Perfect\n"
     ]
    }
   ],
   "source": [
    "print(\"Perfect\") if isPerfect(int(input())) else print(\"Not perfect\")"
   ]
  },
  {
   "cell_type": "markdown",
   "metadata": {},
   "source": [
    "### 3. First n perfect numbers"
   ]
  },
  {
   "cell_type": "code",
   "execution_count": 82,
   "metadata": {},
   "outputs": [
    {
     "name": "stdout",
     "output_type": "stream",
     "text": [
      "3\n",
      "6\n",
      "28\n",
      "496\n"
     ]
    }
   ],
   "source": [
    "k = int(input())\n",
    "x = 1\n",
    "count = 0\n",
    "while count < k:\n",
    "    if isPerfect(x):\n",
    "        count += 1\n",
    "        print(x)\n",
    "    x += 1"
   ]
  },
  {
   "cell_type": "markdown",
   "metadata": {},
   "source": [
    "### 4.  Armstrong"
   ]
  },
  {
   "cell_type": "code",
   "execution_count": 244,
   "metadata": {},
   "outputs": [
    {
     "name": "stdout",
     "output_type": "stream",
     "text": [
      "153\n",
      "Armstromg Number\n"
     ]
    }
   ],
   "source": [
    "x = int(input())\n",
    "digits = getDigits(x)\n",
    "l = len(digits)\n",
    "y = 0 \n",
    "\n",
    "for i in digits:\n",
    "    y += i**l\n",
    "\n",
    "print(\"Armstromg Number\") if x == y else print(\"Not an armstrong number\")"
   ]
  },
  {
   "cell_type": "markdown",
   "metadata": {},
   "source": [
    "### 5. First 10 in FIBONACCI series"
   ]
  },
  {
   "cell_type": "code",
   "execution_count": null,
   "metadata": {},
   "outputs": [],
   "source": [
    "a ,b = 0,1\n",
    "n = int(input(\"Enter the number of terms::\\t\"))\n",
    "print(a,b,end=' ')\n",
    "for i in range(2,n+1):\n",
    "    out = a + b\n",
    "    a = b\n",
    "    b = out\n",
    "    print(out,end=' ')"
   ]
  },
  {
   "cell_type": "markdown",
   "metadata": {},
   "source": [
    "### 6. Add odd upto n "
   ]
  },
  {
   "cell_type": "code",
   "execution_count": null,
   "metadata": {},
   "outputs": [],
   "source": [
    "res = 0\n",
    "for i in range(3,int(input())+1):\n",
    "    if i%2!=0:\n",
    "#         print(i)\n",
    "        res+=i\n",
    "print(res)"
   ]
  },
  {
   "cell_type": "markdown",
   "metadata": {},
   "source": [
    "### 7. Swap without 3 var"
   ]
  },
  {
   "cell_type": "code",
   "execution_count": null,
   "metadata": {},
   "outputs": [],
   "source": [
    "a, b = int(input()), int(input())\n",
    "print(a,b)\n",
    "a,b = b,a\n",
    "print(a,b)"
   ]
  },
  {
   "cell_type": "markdown",
   "metadata": {},
   "source": [
    "### 8. Print greatest using if-else"
   ]
  },
  {
   "cell_type": "code",
   "execution_count": null,
   "metadata": {},
   "outputs": [],
   "source": [
    "a,b,c = int(input()), int(input()), int(input())\n",
    "if a > b:\n",
    "    if a > c:\n",
    "        print(a)\n",
    "    else:\n",
    "        print(c)\n",
    "else:\n",
    "    if b>c:\n",
    "        print(b)\n",
    "    else:\n",
    "        print(c)     \n",
    "        \n",
    "#  print(max(map(int, input().split())))"
   ]
  },
  {
   "cell_type": "markdown",
   "metadata": {},
   "source": [
    "### 9 . Check for vowel and consonant"
   ]
  },
  {
   "cell_type": "code",
   "execution_count": null,
   "metadata": {},
   "outputs": [],
   "source": [
    "vow = ['a', 'e', 'i', 'o', 'u', 'A', 'E', 'I', 'O', 'U']\n",
    "if input() in vow:\n",
    "    print(\"Vowel\")\n",
    "else:\n",
    "    print(\"Consonant\")"
   ]
  },
  {
   "cell_type": "markdown",
   "metadata": {},
   "source": [
    "### 10. Check alphabet or number"
   ]
  },
  {
   "cell_type": "code",
   "execution_count": null,
   "metadata": {},
   "outputs": [],
   "source": [
    "k = input()\n",
    "if ord(k) >= 65 and ord(k) <= 122:\n",
    "    print(\"Alphabet\")\n",
    "else:\n",
    "    print(\"Not alphabet\")"
   ]
  },
  {
   "cell_type": "markdown",
   "metadata": {},
   "source": [
    "### 11. Sum upto n"
   ]
  },
  {
   "cell_type": "code",
   "execution_count": null,
   "metadata": {},
   "outputs": [],
   "source": [
    "res = 0\n",
    "for i in range(1,int(input())+1):\n",
    "#     print(i)\n",
    "    res += i\n",
    "print(res)"
   ]
  },
  {
   "cell_type": "markdown",
   "metadata": {},
   "source": [
    "### 12. Factorial of a number"
   ]
  },
  {
   "cell_type": "code",
   "execution_count": 122,
   "metadata": {},
   "outputs": [
    {
     "name": "stdout",
     "output_type": "stream",
     "text": [
      "5\n"
     ]
    },
    {
     "data": {
      "text/plain": [
       "120"
      ]
     },
     "execution_count": 122,
     "metadata": {},
     "output_type": "execute_result"
    }
   ],
   "source": [
    "def factorial(n):\n",
    "    res = 1\n",
    "    for i in range(n,1,-1):\n",
    "        res *= i\n",
    "    return res\n",
    "\n",
    "factorial(int(input()))"
   ]
  },
  {
   "cell_type": "markdown",
   "metadata": {},
   "source": [
    "### 13. Sum of even and odd upto n"
   ]
  },
  {
   "cell_type": "code",
   "execution_count": null,
   "metadata": {},
   "outputs": [],
   "source": [
    "oddSum = 0\n",
    "evenSum = 0\n",
    "for i in range(3,int(input())+1):\n",
    "    if i%2!=0:\n",
    "#         print(i)\n",
    "        oddSum+=i\n",
    "    else:\n",
    "        evenSum+=i\n",
    "print(oddSum,evenSum)"
   ]
  },
  {
   "cell_type": "markdown",
   "metadata": {},
   "source": [
    "### 14 . Prime check"
   ]
  },
  {
   "cell_type": "code",
   "execution_count": 116,
   "metadata": {},
   "outputs": [
    {
     "name": "stdout",
     "output_type": "stream",
     "text": [
      "Enter number to be checked::\t15\n",
      "Not Prime\n"
     ]
    }
   ],
   "source": [
    "print(\"Prime\") if isPrime(int(input(\"Enter number to be checked::\\t\"))) else print(\"Not Prime\")"
   ]
  },
  {
   "cell_type": "markdown",
   "metadata": {},
   "source": [
    "### 15. Sum of digits"
   ]
  },
  {
   "cell_type": "code",
   "execution_count": 245,
   "metadata": {},
   "outputs": [
    {
     "name": "stdout",
     "output_type": "stream",
     "text": [
      "145\n",
      "10\n"
     ]
    }
   ],
   "source": [
    "n = int(input())\n",
    "digits = getDigits(n)\n",
    "res = 0\n",
    "for i in digits:\n",
    "    res += i\n",
    "print(res)"
   ]
  },
  {
   "cell_type": "markdown",
   "metadata": {},
   "source": [
    "### 16. HCF"
   ]
  },
  {
   "cell_type": "code",
   "execution_count": 292,
   "metadata": {},
   "outputs": [
    {
     "name": "stdout",
     "output_type": "stream",
     "text": [
      "Enter Number 1::\t6\n",
      "Enter number 2::\t12\n",
      "HCF of 6 and 12 ::\t 6\n"
     ]
    }
   ],
   "source": [
    "a,b = int(input(\"Enter Number 1::\\t\")), int(input(\"Enter number 2::\\t\"))\n",
    "print(\"HCF of\",a,\"and\",b,\"::\\t\",hcf(a,b))"
   ]
  },
  {
   "cell_type": "markdown",
   "metadata": {},
   "source": [
    "### 17. LCM"
   ]
  },
  {
   "cell_type": "code",
   "execution_count": 293,
   "metadata": {},
   "outputs": [
    {
     "name": "stdout",
     "output_type": "stream",
     "text": [
      "Enter Number 1::\t2\n",
      "Enter number 2::\t3\n",
      "LCM of 2 and 3 ::\t 6\n"
     ]
    }
   ],
   "source": [
    "a,b = int(input(\"Enter Number 1::\\t\")), int(input(\"Enter number 2::\\t\"))\n",
    "print(\"LCM of\",a,\"and\",b,\"::\\t\", (b*a//hcf(a,b)))"
   ]
  },
  {
   "cell_type": "markdown",
   "metadata": {},
   "source": [
    "### 18. Prime factors"
   ]
  },
  {
   "cell_type": "code",
   "execution_count": 232,
   "metadata": {},
   "outputs": [
    {
     "name": "stdout",
     "output_type": "stream",
     "text": [
      "6\n",
      "2 3 "
     ]
    }
   ],
   "source": [
    "n = int(input())\n",
    "for i in range(2,n+1):\n",
    "    if n%i==0:\n",
    "        n /= i\n",
    "        if isPrime(i):\n",
    "            print(i, end=' ')\n",
    "# print(n)"
   ]
  },
  {
   "cell_type": "markdown",
   "metadata": {},
   "source": [
    "### 19. Perfect numbers in range"
   ]
  },
  {
   "cell_type": "code",
   "execution_count": 73,
   "metadata": {},
   "outputs": [
    {
     "name": "stdout",
     "output_type": "stream",
     "text": [
      "Enter lower bound::\t10\n",
      "Enter upper bound::\t100\n",
      "28\n"
     ]
    }
   ],
   "source": [
    "for i in range(int(input(\"Enter lower bound::\\t\")), int(input(\"Enter upper bound::\\t\"))+1):\n",
    "    if isPerfect(i):\n",
    "        print(i)"
   ]
  },
  {
   "cell_type": "markdown",
   "metadata": {},
   "source": [
    "### 20. Strong numbers till n"
   ]
  },
  {
   "cell_type": "code",
   "execution_count": 249,
   "metadata": {},
   "outputs": [
    {
     "name": "stdout",
     "output_type": "stream",
     "text": [
      "100\n",
      "1\n",
      "2\n"
     ]
    }
   ],
   "source": [
    "for i in range(1,int(input())+1):\n",
    "    if isStrong(i):\n",
    "        print(i)"
   ]
  },
  {
   "cell_type": "markdown",
   "metadata": {},
   "source": [
    "### 21. Prime numbers till n"
   ]
  },
  {
   "cell_type": "code",
   "execution_count": 5,
   "metadata": {},
   "outputs": [
    {
     "name": "stdout",
     "output_type": "stream",
     "text": [
      "Enter c::\t100\n",
      "2\n",
      "3\n",
      "5\n",
      "7\n",
      "11\n",
      "13\n",
      "17\n",
      "19\n",
      "23\n",
      "29\n",
      "31\n",
      "37\n",
      "41\n",
      "43\n",
      "47\n",
      "53\n",
      "59\n",
      "61\n",
      "67\n",
      "71\n",
      "73\n",
      "79\n",
      "83\n",
      "89\n",
      "97\n"
     ]
    }
   ],
   "source": [
    "x = int(input(\"Enter c::\\t\"))\n",
    "n = 2\n",
    "while n <= x:\n",
    "   if isPrime(n):\n",
    "        print(n)\n",
    "   n += 1"
   ]
  },
  {
   "cell_type": "markdown",
   "metadata": {},
   "source": [
    "### 22. Print the following series 1 2 3 9 4 5 6 18 7 8 9 27 ..."
   ]
  },
  {
   "cell_type": "code",
   "execution_count": 184,
   "metadata": {},
   "outputs": [
    {
     "name": "stdout",
     "output_type": "stream",
     "text": [
      "Number of terms::\t11\n",
      "1 2 3 9 4 5 6 18 7 8 9 27 "
     ]
    }
   ],
   "source": [
    "n = int(input(\"Number of terms::\\t\"))\n",
    "count = 0\n",
    "i=1\n",
    "while count < n:\n",
    "    if i%3 != 0:\n",
    "        print(i, end=' ')\n",
    "        i += 1\n",
    "        count+=1 \n",
    "    else:\n",
    "        print(i,i*3,end=' ')\n",
    "        i+=1\n",
    "        count += 2"
   ]
  },
  {
   "cell_type": "code",
   "execution_count": 6,
   "metadata": {},
   "outputs": [
    {
     "name": "stdout",
     "output_type": "stream",
     "text": [
      "2\n",
      "3\n",
      "5\n",
      "7\n",
      "11\n",
      "13\n",
      "17\n",
      "19\n",
      "23\n",
      "29\n",
      "31\n",
      "37\n",
      "41\n",
      "43\n",
      "47\n",
      "53\n",
      "59\n",
      "61\n",
      "67\n",
      "71\n",
      "73\n",
      "79\n",
      "83\n",
      "89\n",
      "97\n",
      "101\n",
      "103\n",
      "107\n",
      "109\n",
      "113\n",
      "127\n",
      "131\n",
      "137\n",
      "139\n",
      "149\n",
      "151\n",
      "157\n",
      "163\n",
      "167\n",
      "173\n",
      "179\n",
      "181\n",
      "191\n",
      "193\n",
      "197\n",
      "199\n",
      "211\n",
      "223\n",
      "227\n",
      "229\n",
      "233\n",
      "239\n",
      "241\n",
      "251\n",
      "257\n",
      "263\n",
      "269\n",
      "271\n",
      "277\n",
      "281\n",
      "283\n",
      "293\n",
      "307\n",
      "311\n",
      "313\n",
      "317\n",
      "331\n",
      "337\n",
      "347\n",
      "349\n",
      "353\n",
      "359\n",
      "367\n",
      "373\n",
      "379\n",
      "383\n",
      "389\n",
      "397\n",
      "401\n",
      "409\n",
      "419\n",
      "421\n",
      "431\n",
      "433\n",
      "439\n",
      "443\n",
      "449\n",
      "457\n",
      "461\n",
      "463\n",
      "467\n",
      "479\n",
      "487\n",
      "491\n",
      "499\n",
      "503\n",
      "509\n",
      "521\n",
      "523\n",
      "541\n"
     ]
    }
   ],
   "source": [
    "#print first hundred primes\n",
    "x = 0\n",
    "i = 2\n",
    "while x!=100:\n",
    "    if isPrime(i):\n",
    "        print(i)\n",
    "        i+=1\n",
    "        x+=1\n",
    "    else:\n",
    "        i+=1"
   ]
  },
  {
   "cell_type": "code",
   "execution_count": null,
   "metadata": {},
   "outputs": [],
   "source": []
  }
 ],
 "metadata": {
  "kernelspec": {
   "display_name": "Python 3",
   "language": "python",
   "name": "python3"
  },
  "language_info": {
   "codemirror_mode": {
    "name": "ipython",
    "version": 3
   },
   "file_extension": ".py",
   "mimetype": "text/x-python",
   "name": "python",
   "nbconvert_exporter": "python",
   "pygments_lexer": "ipython3",
   "version": "3.8.5"
  }
 },
 "nbformat": 4,
 "nbformat_minor": 4
}
